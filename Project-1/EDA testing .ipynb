{
 "cells": [
  {
   "cell_type": "code",
   "execution_count": 307,
   "metadata": {
    "collapsed": true
   },
   "outputs": [],
   "source": [
    "import pandas as pd\n",
    "import numpy as np\n",
    "import matplotlib.pyplot as plt \n",
    "%matplotlib inline"
   ]
  },
  {
   "cell_type": "code",
   "execution_count": 329,
   "metadata": {
    "collapsed": true
   },
   "outputs": [],
   "source": [
    "path ='/Users/Rajarshi/income_tr.csv'\n",
    "# raw_data always contains the entire dataset\n",
    "raw_data = pd.read_csv(path)\n",
    "# data contains the processed dataset\n",
    "data = pd.read_csv(path)"
   ]
  },
  {
   "cell_type": "code",
   "execution_count": 55,
   "metadata": {
    "collapsed": false
   },
   "outputs": [
    {
     "data": {
      "text/html": [
       "<div>\n",
       "<table border=\"1\" class=\"dataframe\">\n",
       "  <thead>\n",
       "    <tr style=\"text-align: right;\">\n",
       "      <th></th>\n",
       "      <th>ID</th>\n",
       "      <th>age</th>\n",
       "      <th>workclass</th>\n",
       "      <th>fnlwgt</th>\n",
       "      <th>education</th>\n",
       "      <th>education_cat</th>\n",
       "      <th>marital_status</th>\n",
       "      <th>occupation</th>\n",
       "      <th>relationship</th>\n",
       "      <th>race</th>\n",
       "      <th>gender</th>\n",
       "      <th>capital_gain</th>\n",
       "      <th>capital_loss</th>\n",
       "      <th>hour_per_week</th>\n",
       "      <th>native_country</th>\n",
       "      <th>class</th>\n",
       "    </tr>\n",
       "  </thead>\n",
       "  <tbody>\n",
       "    <tr>\n",
       "      <th>0</th>\n",
       "      <td>9364</td>\n",
       "      <td>38</td>\n",
       "      <td>Private</td>\n",
       "      <td>197077</td>\n",
       "      <td>HS-grad</td>\n",
       "      <td>9</td>\n",
       "      <td>Married-civ-spouse</td>\n",
       "      <td>Other-service</td>\n",
       "      <td>Husband</td>\n",
       "      <td>White</td>\n",
       "      <td>Male</td>\n",
       "      <td>0</td>\n",
       "      <td>0</td>\n",
       "      <td>40</td>\n",
       "      <td>United-States</td>\n",
       "      <td>&lt;=50K</td>\n",
       "    </tr>\n",
       "    <tr>\n",
       "      <th>1</th>\n",
       "      <td>25668</td>\n",
       "      <td>31</td>\n",
       "      <td>Private</td>\n",
       "      <td>101761</td>\n",
       "      <td>HS-grad</td>\n",
       "      <td>9</td>\n",
       "      <td>Married-civ-spouse</td>\n",
       "      <td>Craft-repair</td>\n",
       "      <td>Husband</td>\n",
       "      <td>White</td>\n",
       "      <td>Male</td>\n",
       "      <td>0</td>\n",
       "      <td>0</td>\n",
       "      <td>51</td>\n",
       "      <td>United-States</td>\n",
       "      <td>&lt;=50K</td>\n",
       "    </tr>\n",
       "    <tr>\n",
       "      <th>2</th>\n",
       "      <td>13316</td>\n",
       "      <td>26</td>\n",
       "      <td>Private</td>\n",
       "      <td>152855</td>\n",
       "      <td>HS-grad</td>\n",
       "      <td>9</td>\n",
       "      <td>Never-married</td>\n",
       "      <td>Exec-managerial</td>\n",
       "      <td>Own-child</td>\n",
       "      <td>Other</td>\n",
       "      <td>Female</td>\n",
       "      <td>0</td>\n",
       "      <td>0</td>\n",
       "      <td>40</td>\n",
       "      <td>Mexico</td>\n",
       "      <td>&lt;=50K</td>\n",
       "    </tr>\n",
       "    <tr>\n",
       "      <th>3</th>\n",
       "      <td>28750</td>\n",
       "      <td>50</td>\n",
       "      <td>Self-emp-not-inc</td>\n",
       "      <td>99894</td>\n",
       "      <td>5th-6th</td>\n",
       "      <td>3</td>\n",
       "      <td>Never-married</td>\n",
       "      <td>Tech-support</td>\n",
       "      <td>Not-in-family</td>\n",
       "      <td>Asian-Pac-Islander</td>\n",
       "      <td>Female</td>\n",
       "      <td>0</td>\n",
       "      <td>0</td>\n",
       "      <td>15</td>\n",
       "      <td>United-States</td>\n",
       "      <td>&lt;=50K</td>\n",
       "    </tr>\n",
       "    <tr>\n",
       "      <th>4</th>\n",
       "      <td>30619</td>\n",
       "      <td>35</td>\n",
       "      <td>Private</td>\n",
       "      <td>412379</td>\n",
       "      <td>HS-grad</td>\n",
       "      <td>9</td>\n",
       "      <td>Never-married</td>\n",
       "      <td>Other-service</td>\n",
       "      <td>Not-in-family</td>\n",
       "      <td>White</td>\n",
       "      <td>Female</td>\n",
       "      <td>0</td>\n",
       "      <td>0</td>\n",
       "      <td>40</td>\n",
       "      <td>United-States</td>\n",
       "      <td>&lt;=50K</td>\n",
       "    </tr>\n",
       "  </tbody>\n",
       "</table>\n",
       "</div>"
      ],
      "text/plain": [
       "      ID  age          workclass  fnlwgt education  education_cat  \\\n",
       "0   9364   38            Private  197077   HS-grad              9   \n",
       "1  25668   31            Private  101761   HS-grad              9   \n",
       "2  13316   26            Private  152855   HS-grad              9   \n",
       "3  28750   50   Self-emp-not-inc   99894   5th-6th              3   \n",
       "4  30619   35            Private  412379   HS-grad              9   \n",
       "\n",
       "        marital_status        occupation    relationship                 race  \\\n",
       "0   Married-civ-spouse     Other-service         Husband                White   \n",
       "1   Married-civ-spouse      Craft-repair         Husband                White   \n",
       "2        Never-married   Exec-managerial       Own-child                Other   \n",
       "3        Never-married      Tech-support   Not-in-family   Asian-Pac-Islander   \n",
       "4        Never-married     Other-service   Not-in-family                White   \n",
       "\n",
       "    gender  capital_gain  capital_loss  hour_per_week  native_country   class  \n",
       "0     Male             0             0             40   United-States   <=50K  \n",
       "1     Male             0             0             51   United-States   <=50K  \n",
       "2   Female             0             0             40          Mexico   <=50K  \n",
       "3   Female             0             0             15   United-States   <=50K  \n",
       "4   Female             0             0             40   United-States   <=50K  "
      ]
     },
     "execution_count": 55,
     "metadata": {},
     "output_type": "execute_result"
    }
   ],
   "source": [
    "raw_data.head()"
   ]
  },
  {
   "cell_type": "code",
   "execution_count": 332,
   "metadata": {
    "collapsed": false
   },
   "outputs": [
    {
     "data": {
      "text/plain": [
       "<matplotlib.axes._subplots.AxesSubplot at 0x113403e10>"
      ]
     },
     "execution_count": 332,
     "metadata": {},
     "output_type": "execute_result"
    },
    {
     "data": {
      "image/png": "[encoded data removed]",
      "text/plain": [
       "<matplotlib.figure.Figure at 0x113412cd0>"
      ]
     },
     "metadata": {},
     "output_type": "display_data"
    }
   ],
   "source": [
    "\n",
    "data.native_country.value_counts().plot(kind=\"bar\")\n"
   ]
  },
  {
   "cell_type": "code",
   "execution_count": 56,
   "metadata": {
    "collapsed": false
   },
   "outputs": [],
   "source": [
    "# clean the data\n",
    "# Same number of columns has ? so just remove those to overcome any adverse affect of outliers\n",
    "data = data[(data['workclass'] != ' ?') & (data['occupation'] != ' ?')]"
   ]
  },
  {
   "cell_type": "code",
   "execution_count": 326,
   "metadata": {
    "collapsed": false
   },
   "outputs": [
    {
     "data": {
      "text/plain": [
       "count      492.000000\n",
       "mean      1085.599593\n",
       "std       6979.369258\n",
       "min          0.000000\n",
       "25%          0.000000\n",
       "50%          0.000000\n",
       "75%          0.000000\n",
       "max      99999.000000\n",
       "Name: capital_gain, dtype: float64"
      ]
     },
     "execution_count": 326,
     "metadata": {},
     "output_type": "execute_result"
    }
   ],
   "source": [
    "data.capital_gain.describe()"
   ]
  },
  {
   "cell_type": "code",
   "execution_count": 57,
   "metadata": {
    "collapsed": true
   },
   "outputs": [],
   "source": [
    "# a function similar to make_df_simple, but with one more column\n",
    "def make_df(df, feature):\n",
    "    df_less50K = df.loc[df['income>50K']==0, feature].value_counts().sort_index()\n",
    "    df_more50K = df.loc[df['income>50K']==1, feature].value_counts().sort_index()\n",
    "    df_sep = pd.concat([df_less50K, df_more50K], axis=1)\n",
    "    df_sep.columns = ['<50K', '>50K']\n",
    "    df_sep = df_sep.fillna(value=0)\n",
    "    df_sep['total'] = df_sep.sum(axis=1)\n",
    "    df_sep['percent of >50K'] = (df_sep['>50K'] / df_sep['total']) *100\n",
    "    df_sep.sort_values(by=['percent of >50K'], ascending=False, inplace=True)\n",
    "    return df_sep"
   ]
  },
  {
   "cell_type": "code",
   "execution_count": 58,
   "metadata": {
    "collapsed": false
   },
   "outputs": [
    {
     "data": {
      "text/plain": [
       " <=50K    397\n",
       " >50K      95\n",
       "Name: income, dtype: int64"
      ]
     },
     "execution_count": 58,
     "metadata": {},
     "output_type": "execute_result"
    }
   ],
   "source": [
    "# renmae the data class column name\n",
    "data = data.rename(columns={\"class\": \"income\"})\n",
    "data.income.value_counts()"
   ]
  },
  {
   "cell_type": "code",
   "execution_count": 59,
   "metadata": {
    "collapsed": false
   },
   "outputs": [
    {
     "data": {
      "text/plain": [
       "0    397\n",
       "1     95\n",
       "Name: income>50K, dtype: int64"
      ]
     },
     "execution_count": 59,
     "metadata": {},
     "output_type": "execute_result"
    }
   ],
   "source": [
    "# Create column to show income classification\n",
    "data['income>50K'] = np.where(data.income == ' <=50K', 0, 1) \n",
    "data['income>50K'].value_counts()"
   ]
  },
  {
   "cell_type": "code",
   "execution_count": 60,
   "metadata": {
    "collapsed": true
   },
   "outputs": [],
   "source": [
    "#################################################################################"
   ]
  },
  {
   "cell_type": "code",
   "execution_count": 61,
   "metadata": {
    "collapsed": false
   },
   "outputs": [
    {
     "data": {
      "text/plain": [
       "<matplotlib.axes._subplots.AxesSubplot at 0x10ecaa610>"
      ]
     },
     "execution_count": 61,
     "metadata": {},
     "output_type": "execute_result"
    },
    {
     "data": {
      "image/png": "[encoded data removed]",
      "text/plain": [
       "<matplotlib.figure.Figure at 0x10e942990>"
      ]
     },
     "metadata": {},
     "output_type": "display_data"
    }
   ],
   "source": [
    "# Analysis of age with income\n",
    "data.age.value_counts()\n",
    "# Group the ages by the total number\n",
    "df = data.age.value_counts().to_frame()\n",
    "# A little bit adjustments\n",
    "df['count'] = df.age\n",
    "df['age'] = df.index\n",
    "# plot the age distribution \n",
    "df.plot(kind='scatter', x='age', y='count')"
   ]
  },
  {
   "cell_type": "code",
   "execution_count": 62,
   "metadata": {
    "collapsed": false
   },
   "outputs": [
    {
     "data": {
      "text/html": [
       "<div>\n",
       "<table border=\"1\" class=\"dataframe\">\n",
       "  <thead>\n",
       "    <tr style=\"text-align: right;\">\n",
       "      <th></th>\n",
       "      <th>&lt;50K</th>\n",
       "      <th>&gt;50K</th>\n",
       "      <th>total</th>\n",
       "      <th>percent of &gt;50K</th>\n",
       "    </tr>\n",
       "  </thead>\n",
       "  <tbody>\n",
       "    <tr>\n",
       "      <th>0</th>\n",
       "      <td>156.0</td>\n",
       "      <td>8.0</td>\n",
       "      <td>164.0</td>\n",
       "      <td>4.878049</td>\n",
       "    </tr>\n",
       "    <tr>\n",
       "      <th>1</th>\n",
       "      <td>172.0</td>\n",
       "      <td>63.0</td>\n",
       "      <td>235.0</td>\n",
       "      <td>26.808511</td>\n",
       "    </tr>\n",
       "    <tr>\n",
       "      <th>2</th>\n",
       "      <td>69.0</td>\n",
       "      <td>24.0</td>\n",
       "      <td>93.0</td>\n",
       "      <td>25.806452</td>\n",
       "    </tr>\n",
       "  </tbody>\n",
       "</table>\n",
       "</div>"
      ],
      "text/plain": [
       "    <50K  >50K  total  percent of >50K\n",
       "0  156.0   8.0  164.0         4.878049\n",
       "1  172.0  63.0  235.0        26.808511\n",
       "2   69.0  24.0   93.0        25.806452"
      ]
     },
     "execution_count": 62,
     "metadata": {},
     "output_type": "execute_result"
    }
   ],
   "source": [
    "# Group the ages depending on their income\n",
    "s_age = make_df(data,\"age\")\n",
    "s_age['age'] = s_age.index\n",
    "\n",
    "# make classification\n",
    "bins = [0, 30, 50, 100]\n",
    "group_names = [1, 2, 3]\n",
    "s_age['age_category'] = pd.cut(s_age['age'], bins, labels=group_names)\n",
    "df_age = s_age # Catagorized data frame by age\n",
    "df_age.sort_values(by=['age_category'], ascending=False, inplace=True)\n",
    "# Make three groups based on the age\n",
    "df_aged_3 = df_age[df_age['age_category'] ==3]\n",
    "df_aged_2 = df_age[df_age['age_category'] ==2]\n",
    "df_aged_1 = df_age[df_age['age_category'] ==1]\n",
    "# Finally make another dataset\n",
    "df_age_dict = { '<50K' : [sum(df_aged_1['<50K']), sum(df_aged_2['<50K']), sum(df_aged_3['<50K'])],\n",
    "       '>50K' : [sum(df_aged_1['>50K']), sum(df_aged_2['>50K']), sum(df_aged_3['>50K'])],\n",
    "       'total' : [sum(df_aged_1['total']), sum(df_aged_2['total']), sum(df_aged_3['total'])], \n",
    "     }\n",
    "df_age = pd.DataFrame.from_dict(df_age_dict)\n",
    "df_age['percent of >50K'] = (df_age['>50K'] / df_age['total']) *100\n",
    "df_age"
   ]
  },
  {
   "cell_type": "code",
   "execution_count": 63,
   "metadata": {
    "collapsed": false
   },
   "outputs": [
    {
     "data": {
      "image/png": "[encoded data removed]",
      "text/plain": [
       "<matplotlib.figure.Figure at 0x10ec8a910>"
      ]
     },
     "metadata": {},
     "output_type": "display_data"
    }
   ],
   "source": [
    "# Plot the age income distribtion\n",
    "plt.figure(figsize=(18, 3.2))\n",
    "for i in range(3):\n",
    "    labels = \"< 50K\", \">50K\"\n",
    "    explode = (0.1, 0)\n",
    "    toPie = [df_age.iloc[i, 0], df_age.iloc[i, 1]]\n",
    "    plt.subplot(1, 5, i+1)\n",
    "    plt.pie(toPie, explode=explode, labels=labels, #colors=['#bb0000', '#666666'],\n",
    "        autopct='%1.1f%%', shadow=False, startangle=140);\n",
    "    if i == 0:\n",
    "        plt.title(\"(0 - 30) years\", fontsize=15)\n",
    "    elif i == 1:\n",
    "        plt.title('(30 - 50) years', fontsize=15)\n",
    "    elif i == 2:\n",
    "        plt.title('(50 - 100) years', fontsize=15)\n",
    "    "
   ]
  },
  {
   "cell_type": "code",
   "execution_count": 64,
   "metadata": {
    "collapsed": true
   },
   "outputs": [],
   "source": [
    "########################################################################################"
   ]
  },
  {
   "cell_type": "code",
   "execution_count": 65,
   "metadata": {
    "collapsed": false
   },
   "outputs": [
    {
     "data": {
      "text/plain": [
       "<matplotlib.axes._subplots.AxesSubplot at 0x10ecc1e10>"
      ]
     },
     "execution_count": 65,
     "metadata": {},
     "output_type": "execute_result"
    },
    {
     "data": {
      "image/png": "[encoded data removed]",
      "text/plain": [
       "<matplotlib.figure.Figure at 0x10ecf2450>"
      ]
     },
     "metadata": {},
     "output_type": "display_data"
    }
   ],
   "source": [
    "data.workclass.value_counts().plot(kind = \"bar\")"
   ]
  },
  {
   "cell_type": "code",
   "execution_count": 66,
   "metadata": {
    "collapsed": false
   },
   "outputs": [
    {
     "data": {
      "text/plain": [
       "<matplotlib.text.Text at 0x10f0c42d0>"
      ]
     },
     "execution_count": 66,
     "metadata": {},
     "output_type": "execute_result"
    },
    {
     "data": {
      "image/png": "[encoded data removed]",
      "text/plain": [
       "<matplotlib.figure.Figure at 0x10f1bf7d0>"
      ]
     },
     "metadata": {},
     "output_type": "display_data"
    }
   ],
   "source": [
    "# Distribution corresponding to the workclass\n",
    "data_work_class = make_df(data, 'workclass')\n",
    "data_work_class\n",
    "data_work_class[\"workclass\"] = data_work_class.index\n",
    "\n",
    "data_work_class.loc[data_work_class['workclass'].str.contains(\"Private\"), 'workclass_cat'] = 1\n",
    "data_work_class.loc[data_work_class['workclass'].str.contains(\"Self\"), 'workclass_cat'] = 2\n",
    "data_work_class.loc[data_work_class['workclass'].str.contains(\"gov\"), 'workclass_cat'] = 3\n",
    "data_work_class['workclass'] = data_work_class['workclass_cat']\n",
    "data_work_class.drop('workclass_cat', axis=1, inplace=True)\n",
    "data_work_class.workclass = data_work_class.workclass.astype(int)\n",
    "\n",
    "df_work_class = data_work_class\n",
    "# Make three groups based on the workclass\n",
    "df_work_3 = df_work_class.loc[df_work_class['workclass'] ==3]\n",
    "df_work_2 = df_work_class.loc[df_work_class['workclass'] ==2]\n",
    "df_work_1 = df_work_class.loc[df_work_class['workclass'] ==1]\n",
    "# Finally make another dataset\n",
    "df_work_dict = { '<50K' : [sum(df_work_1['<50K']), sum(df_work_2['<50K']), sum(df_work_3['<50K'])],\n",
    "       '>50K' : [sum(df_work_1['>50K']), sum(df_work_2['>50K']), sum(df_work_3['>50K'])],\n",
    "       'total' : [sum(df_work_1['total']), sum(df_work_2['total']), sum(df_work_3['total'])], \n",
    "     }\n",
    "df_work = pd.DataFrame.from_dict(df_work_dict)\n",
    "df_work['percent of >50K'] = (df_work['>50K'] / df_work['total']) *100\n",
    "wc = ['Private', 'Self', 'Government']\n",
    "df_work.index = wc\n",
    "df_work\n",
    "plt.figure()\n",
    "df_work['>50K'].plot(kind='bar')\n",
    "plt.ylabel(\"Number of people\")\n"
   ]
  },
  {
   "cell_type": "code",
   "execution_count": 67,
   "metadata": {
    "collapsed": false
   },
   "outputs": [
    {
     "data": {
      "image/png": "[encoded data removed]",
      "text/plain": [
       "<matplotlib.figure.Figure at 0x10e7b5d90>"
      ]
     },
     "metadata": {},
     "output_type": "display_data"
    }
   ],
   "source": [
    "# Plot the Workgroup income distribtion\n",
    "plt.figure(figsize=(18, 3.2))\n",
    "for i in range(3):\n",
    "    labels = \"< 50K\", \">50K\"\n",
    "    explode = (0.1, 0)\n",
    "    toPie = [df_work.iloc[i, 0], df_work.iloc[i, 1]]\n",
    "    plt.subplot(1, 5, i+1)\n",
    "    plt.pie(toPie, explode=explode, labels=labels, #colors=['#bb0000', '#666666'],\n",
    "        autopct='%1.1f%%', shadow=False, startangle=140);\n",
    "    if i == 0:\n",
    "        plt.title(\"Private\", fontsize=15)\n",
    "    elif i == 1:\n",
    "        plt.title('Self', fontsize=15)\n",
    "    elif i == 2:\n",
    "        plt.title('Government', fontsize=15)\n"
   ]
  },
  {
   "cell_type": "code",
   "execution_count": 68,
   "metadata": {
    "collapsed": true
   },
   "outputs": [],
   "source": [
    "############################################################################################"
   ]
  },
  {
   "cell_type": "code",
   "execution_count": 281,
   "metadata": {
    "collapsed": false
   },
   "outputs": [
    {
     "data": {
      "text/plain": [
       "<matplotlib.axes._subplots.AxesSubplot at 0x113956410>"
      ]
     },
     "execution_count": 281,
     "metadata": {},
     "output_type": "execute_result"
    },
    {
     "data": {
      "image/png": "[encoded data removed]",
      "text/plain": [
       "<matplotlib.figure.Figure at 0x10f042390>"
      ]
     },
     "metadata": {},
     "output_type": "display_data"
    }
   ],
   "source": [
    "# Distribution corresponding to Edudation\n",
    "df_ed = make_df(data, 'education')\n",
    "df_ed\n",
    "data.education.value_counts().plot(kind=\"bar\")"
   ]
  },
  {
   "cell_type": "code",
   "execution_count": 284,
   "metadata": {
    "collapsed": false
   },
   "outputs": [
    {
     "data": {
      "text/plain": [
       "array([' HS-grad', ' 5th-6th', ' Some-college', ' Assoc-voc', ' Bachelors',\n",
       "       ' 12th', ' Masters', ' 7th-8th', ' Assoc-acdm', ' 10th', ' 9th',\n",
       "       ' 11th', ' Prof-school', ' Doctorate', ' 1st-4th', ' Preschool'], dtype=object)"
      ]
     },
     "execution_count": 284,
     "metadata": {},
     "output_type": "execute_result"
    }
   ],
   "source": [
    "data.education.unique()"
   ]
  },
  {
   "cell_type": "code",
   "execution_count": 299,
   "metadata": {
    "collapsed": false
   },
   "outputs": [
    {
     "data": {
      "text/plain": [
       "<matplotlib.axes._subplots.AxesSubplot at 0x1145f2690>"
      ]
     },
     "execution_count": 299,
     "metadata": {},
     "output_type": "execute_result"
    },
    {
     "data": {
      "image/png": "[encoded data removed]",
      "text/plain": [
       "<matplotlib.figure.Figure at 0x114608910>"
      ]
     },
     "metadata": {},
     "output_type": "display_data"
    }
   ],
   "source": [
    "doc = data[data.education == \" Doctorate\"]\n",
    "prof = data[data.education == \" Prof-school\"]\n",
    "mast = data[data.education == \" Masters\"]\n",
    "bach = data[data.education == \" Bachelors\"]\n",
    "plt.figure()\n",
    "mast.workclass.value_counts().plot(kind=\"bar\")"
   ]
  },
  {
   "cell_type": "code",
   "execution_count": 282,
   "metadata": {
    "collapsed": false
   },
   "outputs": [
    {
     "data": {
      "text/html": [
       "<div>\n",
       "<table border=\"1\" class=\"dataframe\">\n",
       "  <thead>\n",
       "    <tr style=\"text-align: right;\">\n",
       "      <th></th>\n",
       "      <th>&lt;50K</th>\n",
       "      <th>&gt;50K</th>\n",
       "      <th>total</th>\n",
       "      <th>percent of &gt;50K</th>\n",
       "    </tr>\n",
       "  </thead>\n",
       "  <tbody>\n",
       "    <tr>\n",
       "      <th>Doctorate</th>\n",
       "      <td>1.0</td>\n",
       "      <td>6.0</td>\n",
       "      <td>7.0</td>\n",
       "      <td>85.714286</td>\n",
       "    </tr>\n",
       "    <tr>\n",
       "      <th>Prof-school</th>\n",
       "      <td>4.0</td>\n",
       "      <td>6.0</td>\n",
       "      <td>10.0</td>\n",
       "      <td>60.000000</td>\n",
       "    </tr>\n",
       "    <tr>\n",
       "      <th>Masters</th>\n",
       "      <td>11.0</td>\n",
       "      <td>16.0</td>\n",
       "      <td>27.0</td>\n",
       "      <td>59.259259</td>\n",
       "    </tr>\n",
       "    <tr>\n",
       "      <th>Bachelors</th>\n",
       "      <td>56.0</td>\n",
       "      <td>28.0</td>\n",
       "      <td>84.0</td>\n",
       "      <td>33.333333</td>\n",
       "    </tr>\n",
       "    <tr>\n",
       "      <th>Other</th>\n",
       "      <td>325.0</td>\n",
       "      <td>39.0</td>\n",
       "      <td>364.0</td>\n",
       "      <td>10.714286</td>\n",
       "    </tr>\n",
       "  </tbody>\n",
       "</table>\n",
       "</div>"
      ],
      "text/plain": [
       "              <50K  >50K  total  percent of >50K\n",
       "Doctorate      1.0   6.0    7.0        85.714286\n",
       "Prof-school    4.0   6.0   10.0        60.000000\n",
       "Masters       11.0  16.0   27.0        59.259259\n",
       "Bachelors     56.0  28.0   84.0        33.333333\n",
       "Other        325.0  39.0  364.0        10.714286"
      ]
     },
     "execution_count": 282,
     "metadata": {},
     "output_type": "execute_result"
    }
   ],
   "source": [
    "df_ed_temp = df_ed.loc[' Assoc-voc':' Preschool', :].copy()\n",
    "df_ed_temp2 = df_ed.loc[' Doctorate':' Bachelors', :].copy()\n",
    "df_ed_new = pd.concat([df_ed_temp2.T, df_ed_temp.sum(axis=0)], axis=1)\n",
    "df_ed_new.columns = ['Doctorate', 'Prof-school', 'Masters', 'Bachelors', 'Other']\n",
    "df_ed_new = df_ed_new.T\n",
    "df_ed_new['percent of >50K'] = (df_ed_new['>50K'] / (df_ed_new['<50K'] + df_ed_new['>50K']))*100\n",
    "df_ed_new"
   ]
  },
  {
   "cell_type": "code",
   "execution_count": 283,
   "metadata": {
    "collapsed": false
   },
   "outputs": [
    {
     "data": {
      "image/png": "[encoded data removed]",
      "text/plain": [
       "<matplotlib.figure.Figure at 0x113d444d0>"
      ]
     },
     "metadata": {},
     "output_type": "display_data"
    }
   ],
   "source": [
    "plt.figure(figsize=(18, 3.2))\n",
    "for i in range(5):\n",
    "    labels = \"<50K\", \">50K\"\n",
    "    explode = (0.1, 0)\n",
    "    toPie = [df_ed_new.iloc[i, 0], df_ed_new.iloc[i, 1]]\n",
    "    plt.subplot(1, 5, i+1)\n",
    "    plt.pie(toPie, explode=explode, labels=labels, #colors=['#bb0000', '#666666'],\n",
    "        autopct='%1.1f%%', shadow=False, startangle=140);\n",
    "    plt.title(df_ed_new.index[i], fontsize=15)"
   ]
  },
  {
   "cell_type": "code",
   "execution_count": 72,
   "metadata": {
    "collapsed": false
   },
   "outputs": [
    {
     "data": {
      "text/plain": [
       "<matplotlib.axes._subplots.AxesSubplot at 0x10f407d10>"
      ]
     },
     "execution_count": 72,
     "metadata": {},
     "output_type": "execute_result"
    },
    {
     "data": {
      "image/png": "[encoded data removed]",
      "text/plain": [
       "<matplotlib.figure.Figure at 0x10f3c1310>"
      ]
     },
     "metadata": {},
     "output_type": "display_data"
    }
   ],
   "source": [
    "df_ed_new[\"percent of >50K\"].plot()"
   ]
  },
  {
   "cell_type": "code",
   "execution_count": 73,
   "metadata": {
    "collapsed": true
   },
   "outputs": [],
   "source": [
    "###########################################################################################"
   ]
  },
  {
   "cell_type": "code",
   "execution_count": 220,
   "metadata": {
    "collapsed": false
   },
   "outputs": [
    {
     "data": {
      "text/plain": [
       "<matplotlib.text.Text at 0x1128603d0>"
      ]
     },
     "execution_count": 220,
     "metadata": {},
     "output_type": "execute_result"
    },
    {
     "data": {
      "image/png": "[encoded data removed]",
      "text/plain": [
       "<matplotlib.figure.Figure at 0x111b86c10>"
      ]
     },
     "metadata": {},
     "output_type": "display_data"
    }
   ],
   "source": [
    "#Analysis of data corresponding to marital status\n",
    "plt.figure()\n",
    "data['marital_status'].value_counts().plot(kind=\"bar\")\n",
    "plt.ylabel(\"Number of people\")"
   ]
  },
  {
   "cell_type": "code",
   "execution_count": 221,
   "metadata": {
    "collapsed": false
   },
   "outputs": [
    {
     "data": {
      "text/plain": [
       "array([' Married-civ-spouse', ' Never-married', ' Widowed', ' Divorced',\n",
       "       ' Married-spouse-absent', ' Separated', ' Married-AF-spouse'], dtype=object)"
      ]
     },
     "execution_count": 221,
     "metadata": {},
     "output_type": "execute_result"
    }
   ],
   "source": [
    "data['marital_status'].unique()"
   ]
  },
  {
   "cell_type": "code",
   "execution_count": 279,
   "metadata": {
    "collapsed": false
   },
   "outputs": [
    {
     "data": {
      "text/plain": [
       "([<matplotlib.axis.XTick at 0x113982350>,\n",
       "  <matplotlib.axis.XTick at 0x1139820d0>,\n",
       "  <matplotlib.axis.XTick at 0x113a53550>,\n",
       "  <matplotlib.axis.XTick at 0x113addd50>],\n",
       " <a list of 4 Text xticklabel objects>)"
      ]
     },
     "execution_count": 279,
     "metadata": {},
     "output_type": "execute_result"
    },
    {
     "data": {
      "image/png": "[encoded data removed]",
      "text/plain": [
       "<matplotlib.figure.Figure at 0x112fb1fd0>"
      ]
     },
     "metadata": {},
     "output_type": "display_data"
    }
   ],
   "source": [
    "m_d = data\n",
    "mar = m_d[(m_d['marital_status'] == \" Married-civ-spouse\") | (m_d['marital_status'] == \" Married-spouse-absent\") | (m_d['marital_status'] == \" Married-AF-spouse\")]\n",
    "wid = m_d[(m_d['marital_status'] == \" Widowed\")]\n",
    "div = m_d[(m_d['marital_status'] == \" Divorced\") | (m_d['marital_status'] == \" Separated\")]\n",
    "nev_mar = m_d[(m_d['marital_status'] == \" Never-married\")]\n",
    "\n",
    "#mar.age.plot(kind=\"box\")\n",
    "#div.age.plot(kind=\"box\")\n",
    "#nev_mar.age.plot(kind=\"box\")\n",
    "\n",
    "df = pd.DataFrame(columns=['Never married', 'Married', 'Divorced or Separated', 'Widowed'])\n",
    "df['Never married'] = nev_mar.age\n",
    "df['Married'] = mar.age\n",
    "#df['Divorced or Separated']= div.age\n",
    "#df[.'Widowed'] = wid.age\n",
    "#df.plot(kind='box')\n",
    "d = [[nev_mar.age],[mar.age],[div.age],[wid.age]]\n",
    "plt.figure()\n",
    "plt.boxplot(d)\n",
    "plt.xticks([1, 2, 3, 4], ['Never married', 'Married', 'Divorced or Separated', 'Widowed'])"
   ]
  },
  {
   "cell_type": "code",
   "execution_count": 75,
   "metadata": {
    "collapsed": false
   },
   "outputs": [
    {
     "data": {
      "text/html": [
       "<div>\n",
       "<table border=\"1\" class=\"dataframe\">\n",
       "  <thead>\n",
       "    <tr style=\"text-align: right;\">\n",
       "      <th></th>\n",
       "      <th>&lt;50K</th>\n",
       "      <th>&gt;50K</th>\n",
       "      <th>total</th>\n",
       "      <th>percent of &gt;50K</th>\n",
       "      <th>marital_status</th>\n",
       "    </tr>\n",
       "  </thead>\n",
       "  <tbody>\n",
       "    <tr>\n",
       "      <th>Married-AF-spouse</th>\n",
       "      <td>0.0</td>\n",
       "      <td>1</td>\n",
       "      <td>1.0</td>\n",
       "      <td>100.000000</td>\n",
       "      <td>1.0</td>\n",
       "    </tr>\n",
       "    <tr>\n",
       "      <th>Married-civ-spouse</th>\n",
       "      <td>117.0</td>\n",
       "      <td>72</td>\n",
       "      <td>189.0</td>\n",
       "      <td>38.095238</td>\n",
       "      <td>1.0</td>\n",
       "    </tr>\n",
       "    <tr>\n",
       "      <th>Divorced</th>\n",
       "      <td>73.0</td>\n",
       "      <td>9</td>\n",
       "      <td>82.0</td>\n",
       "      <td>10.975610</td>\n",
       "      <td>2.0</td>\n",
       "    </tr>\n",
       "    <tr>\n",
       "      <th>Married-spouse-absent</th>\n",
       "      <td>9.0</td>\n",
       "      <td>1</td>\n",
       "      <td>10.0</td>\n",
       "      <td>10.000000</td>\n",
       "      <td>1.0</td>\n",
       "    </tr>\n",
       "    <tr>\n",
       "      <th>Separated</th>\n",
       "      <td>18.0</td>\n",
       "      <td>2</td>\n",
       "      <td>20.0</td>\n",
       "      <td>10.000000</td>\n",
       "      <td>2.0</td>\n",
       "    </tr>\n",
       "    <tr>\n",
       "      <th>Widowed</th>\n",
       "      <td>11.0</td>\n",
       "      <td>1</td>\n",
       "      <td>12.0</td>\n",
       "      <td>8.333333</td>\n",
       "      <td>2.0</td>\n",
       "    </tr>\n",
       "    <tr>\n",
       "      <th>Never-married</th>\n",
       "      <td>169.0</td>\n",
       "      <td>9</td>\n",
       "      <td>178.0</td>\n",
       "      <td>5.056180</td>\n",
       "      <td>2.0</td>\n",
       "    </tr>\n",
       "  </tbody>\n",
       "</table>\n",
       "</div>"
      ],
      "text/plain": [
       "                         <50K  >50K  total  percent of >50K  marital_status\n",
       " Married-AF-spouse        0.0     1    1.0       100.000000             1.0\n",
       " Married-civ-spouse     117.0    72  189.0        38.095238             1.0\n",
       " Divorced                73.0     9   82.0        10.975610             2.0\n",
       " Married-spouse-absent    9.0     1   10.0        10.000000             1.0\n",
       " Separated               18.0     2   20.0        10.000000             2.0\n",
       " Widowed                 11.0     1   12.0         8.333333             2.0\n",
       " Never-married          169.0     9  178.0         5.056180             2.0"
      ]
     },
     "execution_count": 75,
     "metadata": {},
     "output_type": "execute_result"
    }
   ],
   "source": [
    "#Analysis of data corresponding to marital status\n",
    "df_mar = make_df(data, \"marital_status\")\n",
    "df_mar['marital_status'] = df_mar.index\n",
    "df_mar.loc[df_mar['marital_status'].str.contains(\" Married\"), 'marital_status_cat'] = 1\n",
    "df_mar.loc[[not d for d in df_mar['marital_status'].str.contains(\" Married\")], 'marital_status_cat'] = 2\n",
    "df_mar['marital_status'] = df_mar['marital_status_cat']\n",
    "df_mar.drop('marital_status_cat', axis=1, inplace=True)\n",
    "df_mar"
   ]
  },
  {
   "cell_type": "code",
   "execution_count": 76,
   "metadata": {
    "collapsed": false
   },
   "outputs": [
    {
     "data": {
      "image/png": "[encoded data removed]",
      "text/plain": [
       "<matplotlib.figure.Figure at 0x10f9b4750>"
      ]
     },
     "metadata": {},
     "output_type": "display_data"
    }
   ],
   "source": [
    "df_married = df_mar.loc[df_mar['marital_status'] == 1]\n",
    "df_never_mar = df_mar.loc[df_mar['marital_status'] == 2]\n",
    "\n",
    "df_mar_dict = { '<50K' : [sum(df_married['<50K']), sum(df_never_mar['<50K'])],\n",
    "       '>50K' : [sum(df_married['>50K']), sum(df_never_mar['>50K'])],\n",
    "       'total' : [sum(df_married['total']), sum(df_never_mar['total'])], \n",
    "     }\n",
    "\n",
    "df_mar_c = pd.DataFrame.from_dict(df_mar_dict)\n",
    "df_mar_c['percent of >50K'] = (df_mar_c['>50K'] / df_mar_c['total']) *100\n",
    "\n",
    "plt.figure(figsize=(18, 3.2))\n",
    "for i in range(2):\n",
    "    labels = \"<50K\", \">50K\"\n",
    "    explode = (0.1, 0)\n",
    "    toPie = [df_mar_c.iloc[i, 0], df_mar_c.iloc[i, 1]]\n",
    "    plt.subplot(1, 5, i+1)\n",
    "    plt.pie(toPie, explode=explode, labels=labels, #colors=['#bb0000', '#666666'],\n",
    "        autopct='%1.1f%%', shadow=False, startangle=140);\n",
    "    if i == 0:\n",
    "        plt.title(\"Married\", fontsize=15)\n",
    "    elif i == 1:\n",
    "        plt.title(\"Other\", fontsize=15)"
   ]
  },
  {
   "cell_type": "code",
   "execution_count": 77,
   "metadata": {
    "collapsed": true
   },
   "outputs": [],
   "source": [
    "############################################################################################"
   ]
  },
  {
   "cell_type": "code",
   "execution_count": 78,
   "metadata": {
    "collapsed": false
   },
   "outputs": [
    {
     "data": {
      "text/plain": [
       "<matplotlib.text.Text at 0x10f6d9250>"
      ]
     },
     "execution_count": 78,
     "metadata": {},
     "output_type": "execute_result"
    },
    {
     "data": {
      "image/png": "[encoded data removed]",
      "text/plain": [
       "<matplotlib.figure.Figure at 0x10f9cbd50>"
      ]
     },
     "metadata": {},
     "output_type": "display_data"
    }
   ],
   "source": [
    "# Analysis based on the occupation\n",
    "plt.figure()\n",
    "data['occupation'].value_counts().plot(kind=\"bar\")\n",
    "plt.ylabel(\"Number of people\")"
   ]
  },
  {
   "cell_type": "code",
   "execution_count": 79,
   "metadata": {
    "collapsed": false
   },
   "outputs": [
    {
     "data": {
      "text/html": [
       "<div>\n",
       "<table border=\"1\" class=\"dataframe\">\n",
       "  <thead>\n",
       "    <tr style=\"text-align: right;\">\n",
       "      <th></th>\n",
       "      <th>&lt;50K</th>\n",
       "      <th>&gt;50K</th>\n",
       "      <th>total</th>\n",
       "      <th>percent of &gt;50K</th>\n",
       "    </tr>\n",
       "  </thead>\n",
       "  <tbody>\n",
       "    <tr>\n",
       "      <th>Prof-specialty</th>\n",
       "      <td>39</td>\n",
       "      <td>28.0</td>\n",
       "      <td>67.0</td>\n",
       "      <td>41.791045</td>\n",
       "    </tr>\n",
       "    <tr>\n",
       "      <th>Exec-managerial</th>\n",
       "      <td>38</td>\n",
       "      <td>27.0</td>\n",
       "      <td>65.0</td>\n",
       "      <td>41.538462</td>\n",
       "    </tr>\n",
       "    <tr>\n",
       "      <th>Farming-fishing</th>\n",
       "      <td>11</td>\n",
       "      <td>4.0</td>\n",
       "      <td>15.0</td>\n",
       "      <td>26.666667</td>\n",
       "    </tr>\n",
       "    <tr>\n",
       "      <th>Sales</th>\n",
       "      <td>40</td>\n",
       "      <td>9.0</td>\n",
       "      <td>49.0</td>\n",
       "      <td>18.367347</td>\n",
       "    </tr>\n",
       "    <tr>\n",
       "      <th>Craft-repair</th>\n",
       "      <td>55</td>\n",
       "      <td>10.0</td>\n",
       "      <td>65.0</td>\n",
       "      <td>15.384615</td>\n",
       "    </tr>\n",
       "    <tr>\n",
       "      <th>Tech-support</th>\n",
       "      <td>16</td>\n",
       "      <td>2.0</td>\n",
       "      <td>18.0</td>\n",
       "      <td>11.111111</td>\n",
       "    </tr>\n",
       "    <tr>\n",
       "      <th>Adm-clerical</th>\n",
       "      <td>65</td>\n",
       "      <td>8.0</td>\n",
       "      <td>73.0</td>\n",
       "      <td>10.958904</td>\n",
       "    </tr>\n",
       "    <tr>\n",
       "      <th>Protective-serv</th>\n",
       "      <td>9</td>\n",
       "      <td>1.0</td>\n",
       "      <td>10.0</td>\n",
       "      <td>10.000000</td>\n",
       "    </tr>\n",
       "    <tr>\n",
       "      <th>Handlers-cleaners</th>\n",
       "      <td>20</td>\n",
       "      <td>2.0</td>\n",
       "      <td>22.0</td>\n",
       "      <td>9.090909</td>\n",
       "    </tr>\n",
       "    <tr>\n",
       "      <th>Machine-op-inspct</th>\n",
       "      <td>30</td>\n",
       "      <td>3.0</td>\n",
       "      <td>33.0</td>\n",
       "      <td>9.090909</td>\n",
       "    </tr>\n",
       "    <tr>\n",
       "      <th>Transport-moving</th>\n",
       "      <td>18</td>\n",
       "      <td>1.0</td>\n",
       "      <td>19.0</td>\n",
       "      <td>5.263158</td>\n",
       "    </tr>\n",
       "    <tr>\n",
       "      <th>Other-service</th>\n",
       "      <td>51</td>\n",
       "      <td>0.0</td>\n",
       "      <td>51.0</td>\n",
       "      <td>0.000000</td>\n",
       "    </tr>\n",
       "    <tr>\n",
       "      <th>Priv-house-serv</th>\n",
       "      <td>5</td>\n",
       "      <td>0.0</td>\n",
       "      <td>5.0</td>\n",
       "      <td>0.000000</td>\n",
       "    </tr>\n",
       "  </tbody>\n",
       "</table>\n",
       "</div>"
      ],
      "text/plain": [
       "                    <50K  >50K  total  percent of >50K\n",
       " Prof-specialty       39  28.0   67.0        41.791045\n",
       " Exec-managerial      38  27.0   65.0        41.538462\n",
       " Farming-fishing      11   4.0   15.0        26.666667\n",
       " Sales                40   9.0   49.0        18.367347\n",
       " Craft-repair         55  10.0   65.0        15.384615\n",
       " Tech-support         16   2.0   18.0        11.111111\n",
       " Adm-clerical         65   8.0   73.0        10.958904\n",
       " Protective-serv       9   1.0   10.0        10.000000\n",
       " Handlers-cleaners    20   2.0   22.0         9.090909\n",
       " Machine-op-inspct    30   3.0   33.0         9.090909\n",
       " Transport-moving     18   1.0   19.0         5.263158\n",
       " Other-service        51   0.0   51.0         0.000000\n",
       " Priv-house-serv       5   0.0    5.0         0.000000"
      ]
     },
     "execution_count": 79,
     "metadata": {},
     "output_type": "execute_result"
    }
   ],
   "source": [
    "df_occu = make_df(data, 'occupation')\n",
    "df_occu\n"
   ]
  },
  {
   "cell_type": "code",
   "execution_count": 80,
   "metadata": {
    "collapsed": false
   },
   "outputs": [
    {
     "data": {
      "text/plain": [
       "<matplotlib.text.Text at 0x10fa1e590>"
      ]
     },
     "execution_count": 80,
     "metadata": {},
     "output_type": "execute_result"
    },
    {
     "data": {
      "image/png": "[encoded data removed]",
      "text/plain": [
       "<matplotlib.figure.Figure at 0x10f753490>"
      ]
     },
     "metadata": {},
     "output_type": "display_data"
    }
   ],
   "source": [
    "plt.figure()\n",
    "df_occu['percent of >50K'].plot(kind='bar')\n",
    "plt.ylabel(\"Percentage of people\")\n",
    "#plt.title (\"Percentage of people that earns more than 50K in different occupation\")"
   ]
  },
  {
   "cell_type": "code",
   "execution_count": 81,
   "metadata": {
    "collapsed": false
   },
   "outputs": [
    {
     "data": {
      "text/plain": [
       "<matplotlib.text.Text at 0x10e8adb10>"
      ]
     },
     "execution_count": 81,
     "metadata": {},
     "output_type": "execute_result"
    },
    {
     "data": {
      "image/png": "[encoded data removed]",
      "text/plain": [
       "<matplotlib.figure.Figure at 0x10f742450>"
      ]
     },
     "metadata": {},
     "output_type": "display_data"
    }
   ],
   "source": [
    "plt.figure()\n",
    "df_occu['>50K'].plot(kind='bar')\n",
    "plt.ylabel(\"Number of people\")\n",
    "plt.title (\"Total number of people that earns more than 50K in different occupation\")"
   ]
  },
  {
   "cell_type": "code",
   "execution_count": 82,
   "metadata": {
    "collapsed": false
   },
   "outputs": [],
   "source": [
    "# Catagorize the occupation\n",
    "data['occup_catagory'] = data.occupation.map ({' Other-service' : 0, ' Craft-repair' : 1, ' Exec-managerial' :2,\n",
    "       ' Tech-support' : 3, ' Sales': 4, ' Machine-op-inspct': 5, ' Prof-specialty' : 6,\n",
    "       ' Handlers-cleaners' : 7, ' ?': 8, ' Transport-moving' : 9, ' Adm-clerical' : 10,\n",
    "       ' Protective-serv' : 11, ' Priv-house-serv': 12, ' Farming-fishing':13})"
   ]
  },
  {
   "cell_type": "code",
   "execution_count": 83,
   "metadata": {
    "collapsed": true
   },
   "outputs": [],
   "source": [
    "# Catagorize the occupation\n",
    "data['occup_catagory'] = data.occupation.map ({' Other-service' : 0, ' Craft-repair' : 0, ' Exec-managerial' :2,\n",
    "       ' Tech-support' : 0, ' Sales': 0, ' Machine-op-inspct': 0, ' Prof-specialty' : 6,\n",
    "       ' Handlers-cleaners' : 0, ' ?': 0, ' Transport-moving' : 0, ' Adm-clerical' : 0,\n",
    "       ' Protective-serv' : 0, ' Priv-house-serv': 0, ' Farming-fishing':0})"
   ]
  },
  {
   "cell_type": "code",
   "execution_count": 84,
   "metadata": {
    "collapsed": false
   },
   "outputs": [
    {
     "data": {
      "text/plain": [
       "<matplotlib.axes._subplots.AxesSubplot at 0x10e8e7390>"
      ]
     },
     "execution_count": 84,
     "metadata": {},
     "output_type": "execute_result"
    },
    {
     "data": {
      "image/png": "[encoded data removed]",
      "text/plain": [
       "<matplotlib.figure.Figure at 0x10f530390>"
      ]
     },
     "metadata": {},
     "output_type": "display_data"
    }
   ],
   "source": [
    "# Filter the occupation \"prof-speciality\" amd income more than 50k\n",
    "temp = data[data['occup_catagory'] == 6]\n",
    "temp = temp[temp['income>50K'] == 1]\n",
    "\n",
    "#temp.age.describe()\n",
    "temp.education.value_counts().plot(kind = 'bar') # Polits the different education \n",
    "#temp\n",
    "# Worth noticing that All the doctorates that earns more than 50 K are doing this job\n",
    "#t = temp[temp['education']== ' Bachelors'].age\n",
    "#temp.age.describe()\n",
    "#temp\n",
    "#temp.workclass.value_counts()\n",
    "#temp.age.describe()"
   ]
  },
  {
   "cell_type": "code",
   "execution_count": 85,
   "metadata": {
    "collapsed": false
   },
   "outputs": [
    {
     "data": {
      "text/plain": [
       "<matplotlib.axes._subplots.AxesSubplot at 0x10f5681d0>"
      ]
     },
     "execution_count": 85,
     "metadata": {},
     "output_type": "execute_result"
    },
    {
     "data": {
      "image/png": "[encoded data removed]",
      "text/plain": [
       "<matplotlib.figure.Figure at 0x10f6ad590>"
      ]
     },
     "metadata": {},
     "output_type": "display_data"
    }
   ],
   "source": [
    "# Filter the occupation \"Exec\" amd income more than 50k\n",
    "temp = data[data['occup_catagory'] == 2]\n",
    "temp = temp[temp['income>50K'] == 1]\n",
    "\n",
    "#temp.age.describe()\n",
    "temp.education.value_counts().plot(kind = 'bar') # Polits the different education \n",
    "#temp\n",
    "# Worth noticing that All the doctorates that earns more than 50 K are doing this job\n",
    "#t = temp[temp['education']== ' Bachelors'].age\n",
    "#temp.age.describe()\n",
    "\n"
   ]
  },
  {
   "cell_type": "code",
   "execution_count": 86,
   "metadata": {
    "collapsed": false
   },
   "outputs": [
    {
     "data": {
      "text/plain": [
       "<matplotlib.axes._subplots.AxesSubplot at 0x10f52cc50>"
      ]
     },
     "execution_count": 86,
     "metadata": {},
     "output_type": "execute_result"
    },
    {
     "data": {
      "image/png": "[encoded data removed]",
      "text/plain": [
       "<matplotlib.figure.Figure at 0x10f628510>"
      ]
     },
     "metadata": {},
     "output_type": "display_data"
    }
   ],
   "source": [
    "# Filter the occupation of other catagory \n",
    "temp = data[data['occup_catagory'] == 0]\n",
    "temp = temp[temp['income>50K'] == 1]\n",
    "\n",
    "#temp.age.describe()\n",
    "temp.education.value_counts().plot(kind = 'bar') # Polits the different education \n",
    "#temp.count()\n",
    "# Worth noticing that All the doctorates that earns more than 50 K are doing this job\n",
    "#t = temp[temp['education']== ' Bachelors'].age\n",
    "#temp.age.describe()\n",
    "#temp = temp[temp['education'] == ' HS-grad']\n",
    "#temp.age.describe()"
   ]
  },
  {
   "cell_type": "code",
   "execution_count": 87,
   "metadata": {
    "collapsed": false
   },
   "outputs": [],
   "source": [
    "###########################################################################################\\"
   ]
  },
  {
   "cell_type": "code",
   "execution_count": 88,
   "metadata": {
    "collapsed": false
   },
   "outputs": [
    {
     "data": {
      "text/html": [
       "<div>\n",
       "<table border=\"1\" class=\"dataframe\">\n",
       "  <thead>\n",
       "    <tr style=\"text-align: right;\">\n",
       "      <th></th>\n",
       "      <th>&lt;50K</th>\n",
       "      <th>&gt;50K</th>\n",
       "      <th>total</th>\n",
       "      <th>percent of &gt;50K</th>\n",
       "    </tr>\n",
       "  </thead>\n",
       "  <tbody>\n",
       "    <tr>\n",
       "      <th>Wife</th>\n",
       "      <td>14</td>\n",
       "      <td>11.0</td>\n",
       "      <td>25.0</td>\n",
       "      <td>44.000000</td>\n",
       "    </tr>\n",
       "    <tr>\n",
       "      <th>Husband</th>\n",
       "      <td>101</td>\n",
       "      <td>61.0</td>\n",
       "      <td>162.0</td>\n",
       "      <td>37.654321</td>\n",
       "    </tr>\n",
       "    <tr>\n",
       "      <th>Not-in-family</th>\n",
       "      <td>126</td>\n",
       "      <td>16.0</td>\n",
       "      <td>142.0</td>\n",
       "      <td>11.267606</td>\n",
       "    </tr>\n",
       "    <tr>\n",
       "      <th>Unmarried</th>\n",
       "      <td>66</td>\n",
       "      <td>5.0</td>\n",
       "      <td>71.0</td>\n",
       "      <td>7.042254</td>\n",
       "    </tr>\n",
       "    <tr>\n",
       "      <th>Own-child</th>\n",
       "      <td>80</td>\n",
       "      <td>2.0</td>\n",
       "      <td>82.0</td>\n",
       "      <td>2.439024</td>\n",
       "    </tr>\n",
       "    <tr>\n",
       "      <th>Other-relative</th>\n",
       "      <td>10</td>\n",
       "      <td>0.0</td>\n",
       "      <td>10.0</td>\n",
       "      <td>0.000000</td>\n",
       "    </tr>\n",
       "  </tbody>\n",
       "</table>\n",
       "</div>"
      ],
      "text/plain": [
       "                 <50K  >50K  total  percent of >50K\n",
       " Wife              14  11.0   25.0        44.000000\n",
       " Husband          101  61.0  162.0        37.654321\n",
       " Not-in-family    126  16.0  142.0        11.267606\n",
       " Unmarried         66   5.0   71.0         7.042254\n",
       " Own-child         80   2.0   82.0         2.439024\n",
       " Other-relative    10   0.0   10.0         0.000000"
      ]
     },
     "execution_count": 88,
     "metadata": {},
     "output_type": "execute_result"
    }
   ],
   "source": [
    "# Relationship with relationship \n",
    "# Ask this to prof\n",
    "df_rel = make_df(data, \"relationship\")\n",
    "df_rel"
   ]
  },
  {
   "cell_type": "code",
   "execution_count": 89,
   "metadata": {
    "collapsed": true
   },
   "outputs": [],
   "source": [
    "#############################################################################################"
   ]
  },
  {
   "cell_type": "code",
   "execution_count": 90,
   "metadata": {
    "collapsed": false
   },
   "outputs": [
    {
     "data": {
      "text/plain": [
       "<matplotlib.text.Text at 0x10fda65d0>"
      ]
     },
     "execution_count": 90,
     "metadata": {},
     "output_type": "execute_result"
    },
    {
     "data": {
      "image/png": "[encoded data removed]",
      "text/plain": [
       "<matplotlib.figure.Figure at 0x10fd71dd0>"
      ]
     },
     "metadata": {},
     "output_type": "display_data"
    }
   ],
   "source": [
    "# relation with race\n",
    "df_race = make_df(data, \"race\")\n",
    "df_race[\"race\"] = df_race.index\n",
    "df_race\n",
    "#df_race[\"percent of >50K\"].plot(kind=\"bar\")\n",
    "data.race.value_counts().plot(kind=\"bar\")\n",
    "plt.ylabel(\"Number of people\")"
   ]
  },
  {
   "cell_type": "code",
   "execution_count": 91,
   "metadata": {
    "collapsed": false
   },
   "outputs": [
    {
     "data": {
      "text/html": [
       "<div>\n",
       "<table border=\"1\" class=\"dataframe\">\n",
       "  <thead>\n",
       "    <tr style=\"text-align: right;\">\n",
       "      <th></th>\n",
       "      <th>&lt;50K</th>\n",
       "      <th>&gt;50K</th>\n",
       "      <th>total</th>\n",
       "      <th>percent of &gt;50K</th>\n",
       "    </tr>\n",
       "  </thead>\n",
       "  <tbody>\n",
       "    <tr>\n",
       "      <th>0</th>\n",
       "      <td>326</td>\n",
       "      <td>83.0</td>\n",
       "      <td>409.0</td>\n",
       "      <td>20.293399</td>\n",
       "    </tr>\n",
       "    <tr>\n",
       "      <th>1</th>\n",
       "      <td>71</td>\n",
       "      <td>12.0</td>\n",
       "      <td>83.0</td>\n",
       "      <td>14.457831</td>\n",
       "    </tr>\n",
       "  </tbody>\n",
       "</table>\n",
       "</div>"
      ],
      "text/plain": [
       "   <50K  >50K  total  percent of >50K\n",
       "0   326  83.0  409.0        20.293399\n",
       "1    71  12.0   83.0        14.457831"
      ]
     },
     "execution_count": 91,
     "metadata": {},
     "output_type": "execute_result"
    }
   ],
   "source": [
    "df_race.loc[df_race['race'].str.contains(\" White\"), 'race_cat'] = 1\n",
    "df_race.loc[[not d for d in df_race['race'].str.contains(\" White\")], 'race_cat'] = 2\n",
    "df_race['race'] = df_race['race_cat']\n",
    "df_race.drop('race_cat', axis=1, inplace=True)\n",
    "df_race\n",
    "\n",
    "df_race_white = df_race.loc[df_race['race'] == 1]\n",
    "df_race_other = df_race.loc[df_race['race'] == 2]\n",
    "\n",
    "df_dict = { '<50K' : [sum(df_race_white['<50K']), sum(df_race_other['<50K'])],\n",
    "       '>50K' : [sum(df_race_white['>50K']), sum(df_race_other['>50K'])],\n",
    "       'total' : [sum(df_race_white['total']), sum(df_race_other['total'])], \n",
    "     }\n",
    "\n",
    "df_race = pd.DataFrame.from_dict(df_dict)\n",
    "df_race['percent of >50K'] = (df_race['>50K'] / df_race['total']) *100\n",
    "\n",
    "df_race"
   ]
  },
  {
   "cell_type": "code",
   "execution_count": 92,
   "metadata": {
    "collapsed": false
   },
   "outputs": [
    {
     "data": {
      "image/png": "[encoded data removed]",
      "text/plain": [
       "<matplotlib.figure.Figure at 0x10fea2a10>"
      ]
     },
     "metadata": {},
     "output_type": "display_data"
    }
   ],
   "source": [
    "plt.figure(figsize=(18, 3.2))\n",
    "for i in range(2):\n",
    "    labels = \"<50K\", \">50K\"\n",
    "    explode = (0.1, 0)\n",
    "    toPie = [df_race.iloc[i, 0], df_race.iloc[i, 1]]\n",
    "    plt.subplot(1, 5, i+1)\n",
    "    plt.pie(toPie, explode=explode, labels=labels, #colors=['#bb0000', '#666666'],\n",
    "        autopct='%1.1f%%', shadow=False, startangle=140);\n",
    "    if i == 0:\n",
    "        plt.title(\"White\", fontsize=15)\n",
    "    elif i == 1:\n",
    "        plt.title(\"Other\", fontsize=15)"
   ]
  },
  {
   "cell_type": "code",
   "execution_count": 93,
   "metadata": {
    "collapsed": true
   },
   "outputs": [],
   "source": [
    "##############################################################################"
   ]
  },
  {
   "cell_type": "code",
   "execution_count": 318,
   "metadata": {
    "collapsed": false
   },
   "outputs": [
    {
     "data": {
      "text/plain": [
       "<matplotlib.axes._subplots.AxesSubplot at 0x113ffa690>"
      ]
     },
     "execution_count": 318,
     "metadata": {},
     "output_type": "execute_result"
    },
    {
     "data": {
      "image/png": "[encoded data removed]",
      "text/plain": [
       "<matplotlib.figure.Figure at 0x1122bcc90>"
      ]
     },
     "metadata": {},
     "output_type": "display_data"
    }
   ],
   "source": [
    "\n",
    "#Correspinding to gender\n",
    "df_gen = make_df(data, \"gender\")\n",
    "d_m = data[data.gender ==\" Male\"]\n",
    "d_f = data[data.gender ==\" Female\"]\n",
    "\n",
    "d = [d_m.gender.value_counts(),d_f.gender.value_counts()]\n",
    "     \n",
    "data.gender.value_counts().plot(kind=\"bar\")\n",
    "#plt.xticks([1, 2, 3, 4], ['Never married', 'Married', 'Divorced or Separated', 'Widowed'])\n",
    "#df_gen\n",
    "#df_gen[\"percent of >50K\"].plot(kind=\"pie\")"
   ]
  },
  {
   "cell_type": "code",
   "execution_count": 95,
   "metadata": {
    "collapsed": true
   },
   "outputs": [],
   "source": [
    "########################################################################################\n",
    "##Capital gain "
   ]
  },
  {
   "cell_type": "code",
   "execution_count": 96,
   "metadata": {
    "collapsed": true
   },
   "outputs": [],
   "source": [
    "########################################################################################"
   ]
  },
  {
   "cell_type": "code",
   "execution_count": 97,
   "metadata": {
    "collapsed": true
   },
   "outputs": [],
   "source": [
    "########################################################################################"
   ]
  },
  {
   "cell_type": "code",
   "execution_count": 98,
   "metadata": {
    "collapsed": true
   },
   "outputs": [],
   "source": [
    "########################################################################################"
   ]
  },
  {
   "cell_type": "code",
   "execution_count": 328,
   "metadata": {
    "collapsed": false
   },
   "outputs": [
    {
     "data": {
      "text/plain": [
       "0      1.0\n",
       "1      1.0\n",
       "2      2.0\n",
       "3      1.0\n",
       "4      1.0\n",
       "5      1.0\n",
       "6      2.0\n",
       "7      1.0\n",
       "8      1.0\n",
       "9      1.0\n",
       "10     1.0\n",
       "11     1.0\n",
       "12     1.0\n",
       "13     1.0\n",
       "14     1.0\n",
       "15     1.0\n",
       "16     1.0\n",
       "17     2.0\n",
       "18     1.0\n",
       "20     1.0\n",
       "21     1.0\n",
       "22     1.0\n",
       "23     1.0\n",
       "24     1.0\n",
       "25     1.0\n",
       "26     1.0\n",
       "27     1.0\n",
       "28     1.0\n",
       "29     2.0\n",
       "30     1.0\n",
       "      ... \n",
       "490    1.0\n",
       "491    1.0\n",
       "492    1.0\n",
       "493    1.0\n",
       "494    1.0\n",
       "495    1.0\n",
       "496    1.0\n",
       "497    1.0\n",
       "498    1.0\n",
       "499    1.0\n",
       "500    2.0\n",
       "501    1.0\n",
       "502    1.0\n",
       "503    1.0\n",
       "504    2.0\n",
       "505    1.0\n",
       "506    1.0\n",
       "507    1.0\n",
       "508    1.0\n",
       "509    1.0\n",
       "510    1.0\n",
       "511    1.0\n",
       "512    1.0\n",
       "513    1.0\n",
       "514    1.0\n",
       "515    2.0\n",
       "516    2.0\n",
       "517    1.0\n",
       "518    1.0\n",
       "519    1.0\n",
       "Name: native_country, dtype: float64"
      ]
     },
     "execution_count": 328,
     "metadata": {},
     "output_type": "execute_result"
    }
   ],
   "source": []
  },
  {
   "cell_type": "code",
   "execution_count": 99,
   "metadata": {
    "collapsed": false
   },
   "outputs": [
    {
     "data": {
      "text/html": [
       "<div>\n",
       "<table border=\"1\" class=\"dataframe\">\n",
       "  <thead>\n",
       "    <tr style=\"text-align: right;\">\n",
       "      <th></th>\n",
       "      <th>&lt;50K</th>\n",
       "      <th>&gt;50K</th>\n",
       "      <th>total</th>\n",
       "      <th>percent of &gt;50K</th>\n",
       "    </tr>\n",
       "  </thead>\n",
       "  <tbody>\n",
       "    <tr>\n",
       "      <th>0</th>\n",
       "      <td>355.0</td>\n",
       "      <td>83.0</td>\n",
       "      <td>438.0</td>\n",
       "      <td>18.949772</td>\n",
       "    </tr>\n",
       "    <tr>\n",
       "      <th>1</th>\n",
       "      <td>42.0</td>\n",
       "      <td>12.0</td>\n",
       "      <td>54.0</td>\n",
       "      <td>22.222222</td>\n",
       "    </tr>\n",
       "  </tbody>\n",
       "</table>\n",
       "</div>"
      ],
      "text/plain": [
       "    <50K  >50K  total  percent of >50K\n",
       "0  355.0  83.0  438.0        18.949772\n",
       "1   42.0  12.0   54.0        22.222222"
      ]
     },
     "execution_count": 99,
     "metadata": {},
     "output_type": "execute_result"
    }
   ],
   "source": [
    "# native country \n",
    "df_c = make_df(data, \"native_country\")\n",
    "df_c[\"native_country\"] = df_c.index\n",
    "df_c.loc[df_c['native_country'].str.contains(\" United-States\"), 'native_country_cat'] = 1\n",
    "df_c.loc[[not d for d in df_c['native_country'].str.contains(\" United-States\")], 'native_country_cat'] = 2\n",
    "df_c['native_country'] = df_c['native_country_cat']\n",
    "df_c.drop('native_country_cat', axis=1, inplace=True)\n",
    "df_c\n",
    "\n",
    "df_us = df_c.loc[df_c['native_country'] == 1]\n",
    "df_non_us = df_c.loc[df_c['native_country'] == 2]\n",
    "\n",
    "df_dict = { '<50K' : [sum(df_us['<50K']), sum(df_non_us['<50K'])],\n",
    "       '>50K' : [sum(df_us['>50K']), sum(df_non_us['>50K'])],\n",
    "       'total' : [sum(df_us['total']), sum(df_non_us['total'])], \n",
    "     }\n",
    "\n",
    "df_c = pd.DataFrame.from_dict(df_dict)\n",
    "df_c['percent of >50K'] = (df_c['>50K'] / df_c['total']) *100\n",
    "df_c"
   ]
  },
  {
   "cell_type": "code",
   "execution_count": 102,
   "metadata": {
    "collapsed": false
   },
   "outputs": [
    {
     "data": {
      "image/png": "[encoded data removed]",
      "text/plain": [
       "<matplotlib.figure.Figure at 0x10eb18050>"
      ]
     },
     "metadata": {},
     "output_type": "display_data"
    }
   ],
   "source": [
    "plt.figure(figsize=(18, 3.2))\n",
    "for i in range(2):\n",
    "    labels = \"<50K\", \">50K\"\n",
    "    explode = (0.1, 0)\n",
    "    toPie = [df_c.iloc[i, 0], df_c.iloc[i, 1]]\n",
    "    plt.subplot(1, 5, i+1)\n",
    "    plt.pie(toPie, explode=explode, labels=labels, #colors=['#bb0000', '#666666'],\n",
    "        autopct='%1.1f%%', shadow=False, startangle=140);\n",
    "    if i == 0:\n",
    "        plt.title(\"US\", fontsize=15)\n",
    "    elif i == 1:\n",
    "        plt.title(\"NON US\", fontsize=15)"
   ]
  },
  {
   "cell_type": "code",
   "execution_count": 103,
   "metadata": {
    "collapsed": false
   },
   "outputs": [],
   "source": [
    "df_c = data\n",
    "df_c.loc[df_c['native_country'].str.contains(\" United-States\"), 'native_country_cat'] = 1\n",
    "df_c.loc[[not d for d in df_c['native_country'].str.contains(\" United-States\")], 'native_country_cat'] = 2\n",
    "df_c['native_country'] = df_c['native_country_cat']\n",
    "df_c.drop('native_country_cat', axis=1, inplace=True)\n",
    "\n"
   ]
  },
  {
   "cell_type": "code",
   "execution_count": 104,
   "metadata": {
    "collapsed": false
   },
   "outputs": [
    {
     "data": {
      "text/plain": [
       "{'Higher Educated': 43, 'Others': 40}"
      ]
     },
     "execution_count": 104,
     "metadata": {},
     "output_type": "execute_result"
    }
   ],
   "source": [
    "# Education in US\n",
    "df_edu_us = df_c[df_c.native_country == 1] # only US data both class\n",
    "df_edu_us = df_edu_us[df_edu_us['income>50K'] == 1]  # earns more than 50K\n",
    "df_count = df_edu_us.education.value_counts()\n",
    "d = df_count[' Bachelors'] \n",
    "h_edu =  df_count[' Bachelors'] + df_count[' Masters'] + df_count[' Doctorate']\n",
    "other_edu = sum(df_count) - h_edu\n",
    "# Education distribution who earns more than 50K\n",
    "df_edu_dict = { 'Higher Educated' : h_edu,\n",
    "                 'Others' : other_edu}\n",
    "df_edu_dict"
   ]
  },
  {
   "cell_type": "code",
   "execution_count": 105,
   "metadata": {
    "collapsed": false
   },
   "outputs": [
    {
     "data": {
      "text/plain": [
       "Index([u' Bachelors', u' HS-grad', u' Masters', u' Some-college',\n",
       "       u' Prof-school', u' Doctorate', u' Assoc-voc', u' 7th-8th',\n",
       "       u' Assoc-acdm'],\n",
       "      dtype='object')"
      ]
     },
     "execution_count": 105,
     "metadata": {},
     "output_type": "execute_result"
    }
   ],
   "source": [
    "df_count.index"
   ]
  },
  {
   "cell_type": "code",
   "execution_count": 106,
   "metadata": {
    "collapsed": false
   },
   "outputs": [
    {
     "data": {
      "text/plain": [
       "{'Higher Educated': 7, 'Others': 5}"
      ]
     },
     "execution_count": 106,
     "metadata": {},
     "output_type": "execute_result"
    }
   ],
   "source": [
    "# Education in non US country\n",
    "df_edu_non_us = df_c[df_c.native_country == 2]\n",
    "da = df_edu_non_us\n",
    "df_edu_non_us = df_edu_non_us[df_edu_non_us['income>50K'] == 1] # who earns more\n",
    "df_count = df_edu_non_us.education.value_counts()\n",
    "#df_edu_non_us.plot(kind='pie')\n",
    "df_count = df_edu_non_us.education.value_counts()\n",
    "d = df_count[' Bachelors'] \n",
    "h_edu =  df_count[' Bachelors'] + df_count[' Masters'] + df_count[' Doctorate']\n",
    "other_edu = sum(df_count) - h_edu\n",
    "# Education distribution who earns more than 50K\n",
    "df_edu_dict = { 'Higher Educated' : h_edu,\n",
    "                 'Others' : other_edu}\n",
    "df_edu_dict"
   ]
  },
  {
   "cell_type": "code",
   "execution_count": 196,
   "metadata": {
    "collapsed": false
   },
   "outputs": [
    {
     "data": {
      "text/plain": [
       "<matplotlib.axes._subplots.AxesSubplot at 0x1125f5110>"
      ]
     },
     "execution_count": 196,
     "metadata": {},
     "output_type": "execute_result"
    },
    {
     "data": {
      "image/png": "[encoded data removed]",
      "text/plain": [
       "<matplotlib.figure.Figure at 0x11229d5d0>"
      ]
     },
     "metadata": {},
     "output_type": "display_data"
    }
   ],
   "source": [
    "# Analysis of hours per week with income\n",
    "data[\"hour_per_week\"].value_counts()\n",
    "# Group the hours by the total number\n",
    "df = data[\"hour_per_week\"].value_counts().to_frame()\n",
    "df\n",
    "# A little bit adjustments\n",
    "df['Number of people'] = df['hour_per_week']\n",
    "df['hours'] = df.index\n",
    "df\n",
    "# plot the age distribution \n",
    "#df.plot(kind='scatter', x='hours', y='Number of people')\n",
    "r1 = data[data[\"hour_per_week\"] < 40]#.education.value_counts()\n",
    "r2 = data[data[\"hour_per_week\"] == 40]\n",
    "r3 = data[data[\"hour_per_week\"] > 40]#.education.value_counts()\n",
    "\n",
    "#r1[r1[\"income>50K\"] == 1].count()\n",
    "#r2[r2[\"income>50K\"] == 1].count()\n",
    "#r3[r3[\"income>50K\"] == 1].count()\n",
    "#r1.plot(kind=\"pie\", fontsize=\"8\")\n",
    "\n",
    "dict_h =  {\n",
    "            \"Hours\" : [7,43,45]\n",
    "           }\n",
    "\n",
    "dict_h\n",
    "df = pd.DataFrame({'number of people': 7}, index=[0])\n",
    "\n",
    "df.loc[1] = 43\n",
    "#df['number of people'] = 45\n",
    "df.loc[2] = 45\n",
    "\n",
    "#df.plot(kind=\"bar\")\n",
    "\n",
    "df_r = pd.DataFrame.from_dict(dict_h)\n",
    "wc = ['less than 40 Hours', 'Equal to 40 Hours', 'More than 40 hours']\n",
    "df_r.index = wc\n",
    "df_r.plot(kind=\"bar\")"
   ]
  },
  {
   "cell_type": "code",
   "execution_count": 146,
   "metadata": {
    "collapsed": false
   },
   "outputs": [
    {
     "data": {
      "text/plain": [
       "<matplotlib.axes._subplots.AxesSubplot at 0x1115db0d0>"
      ]
     },
     "execution_count": 146,
     "metadata": {},
     "output_type": "execute_result"
    },
    {
     "data": {
      "image/png": "[encoded data removed]",
      "text/plain": [
       "<matplotlib.figure.Figure at 0x11107ca10>"
      ]
     },
     "metadata": {},
     "output_type": "display_data"
    }
   ],
   "source": [
    "r2.plot(kind=\"pie\", fontsize=\"7\")\n"
   ]
  },
  {
   "cell_type": "code",
   "execution_count": 148,
   "metadata": {
    "collapsed": false
   },
   "outputs": [
    {
     "data": {
      "text/plain": [
       "<matplotlib.axes._subplots.AxesSubplot at 0x110200050>"
      ]
     },
     "execution_count": 148,
     "metadata": {},
     "output_type": "execute_result"
    },
    {
     "data": {
      "image/png": "[encoded data removed]",
      "text/plain": [
       "<matplotlib.figure.Figure at 0x1117241d0>"
      ]
     },
     "metadata": {},
     "output_type": "display_data"
    }
   ],
   "source": [
    "r3.plot(kind=\"pie\", fontsize=\"7\")"
   ]
  },
  {
   "cell_type": "code",
   "execution_count": 201,
   "metadata": {
    "collapsed": false
   },
   "outputs": [
    {
     "data": {
      "text/html": [
       "<div>\n",
       "<table border=\"1\" class=\"dataframe\">\n",
       "  <thead>\n",
       "    <tr style=\"text-align: right;\">\n",
       "      <th></th>\n",
       "      <th>ID</th>\n",
       "      <th>age</th>\n",
       "      <th>workclass</th>\n",
       "      <th>fnlwgt</th>\n",
       "      <th>education</th>\n",
       "      <th>education_cat</th>\n",
       "      <th>marital_status</th>\n",
       "      <th>occupation</th>\n",
       "      <th>relationship</th>\n",
       "      <th>race</th>\n",
       "      <th>gender</th>\n",
       "      <th>capital_gain</th>\n",
       "      <th>capital_loss</th>\n",
       "      <th>hour_per_week</th>\n",
       "      <th>native_country</th>\n",
       "      <th>income</th>\n",
       "      <th>income&gt;50K</th>\n",
       "      <th>occup_catagory</th>\n",
       "    </tr>\n",
       "  </thead>\n",
       "  <tbody>\n",
       "    <tr>\n",
       "      <th>0</th>\n",
       "      <td>9364</td>\n",
       "      <td>38</td>\n",
       "      <td>Private</td>\n",
       "      <td>197077</td>\n",
       "      <td>HS-grad</td>\n",
       "      <td>9</td>\n",
       "      <td>Married-civ-spouse</td>\n",
       "      <td>Other-service</td>\n",
       "      <td>Husband</td>\n",
       "      <td>White</td>\n",
       "      <td>Male</td>\n",
       "      <td>0</td>\n",
       "      <td>0</td>\n",
       "      <td>40</td>\n",
       "      <td>1.0</td>\n",
       "      <td>&lt;=50K</td>\n",
       "      <td>0</td>\n",
       "      <td>0</td>\n",
       "    </tr>\n",
       "    <tr>\n",
       "      <th>1</th>\n",
       "      <td>25668</td>\n",
       "      <td>31</td>\n",
       "      <td>Private</td>\n",
       "      <td>101761</td>\n",
       "      <td>HS-grad</td>\n",
       "      <td>9</td>\n",
       "      <td>Married-civ-spouse</td>\n",
       "      <td>Craft-repair</td>\n",
       "      <td>Husband</td>\n",
       "      <td>White</td>\n",
       "      <td>Male</td>\n",
       "      <td>0</td>\n",
       "      <td>0</td>\n",
       "      <td>51</td>\n",
       "      <td>1.0</td>\n",
       "      <td>&lt;=50K</td>\n",
       "      <td>0</td>\n",
       "      <td>0</td>\n",
       "    </tr>\n",
       "    <tr>\n",
       "      <th>2</th>\n",
       "      <td>13316</td>\n",
       "      <td>26</td>\n",
       "      <td>Private</td>\n",
       "      <td>152855</td>\n",
       "      <td>HS-grad</td>\n",
       "      <td>9</td>\n",
       "      <td>Never-married</td>\n",
       "      <td>Exec-managerial</td>\n",
       "      <td>Own-child</td>\n",
       "      <td>Other</td>\n",
       "      <td>Female</td>\n",
       "      <td>0</td>\n",
       "      <td>0</td>\n",
       "      <td>40</td>\n",
       "      <td>2.0</td>\n",
       "      <td>&lt;=50K</td>\n",
       "      <td>0</td>\n",
       "      <td>2</td>\n",
       "    </tr>\n",
       "    <tr>\n",
       "      <th>3</th>\n",
       "      <td>28750</td>\n",
       "      <td>50</td>\n",
       "      <td>Self-emp-not-inc</td>\n",
       "      <td>99894</td>\n",
       "      <td>5th-6th</td>\n",
       "      <td>3</td>\n",
       "      <td>Never-married</td>\n",
       "      <td>Tech-support</td>\n",
       "      <td>Not-in-family</td>\n",
       "      <td>Asian-Pac-Islander</td>\n",
       "      <td>Female</td>\n",
       "      <td>0</td>\n",
       "      <td>0</td>\n",
       "      <td>15</td>\n",
       "      <td>1.0</td>\n",
       "      <td>&lt;=50K</td>\n",
       "      <td>0</td>\n",
       "      <td>0</td>\n",
       "    </tr>\n",
       "    <tr>\n",
       "      <th>4</th>\n",
       "      <td>30619</td>\n",
       "      <td>35</td>\n",
       "      <td>Private</td>\n",
       "      <td>412379</td>\n",
       "      <td>HS-grad</td>\n",
       "      <td>9</td>\n",
       "      <td>Never-married</td>\n",
       "      <td>Other-service</td>\n",
       "      <td>Not-in-family</td>\n",
       "      <td>White</td>\n",
       "      <td>Female</td>\n",
       "      <td>0</td>\n",
       "      <td>0</td>\n",
       "      <td>40</td>\n",
       "      <td>1.0</td>\n",
       "      <td>&lt;=50K</td>\n",
       "      <td>0</td>\n",
       "      <td>0</td>\n",
       "    </tr>\n",
       "  </tbody>\n",
       "</table>\n",
       "</div>"
      ],
      "text/plain": [
       "      ID  age          workclass  fnlwgt education  education_cat  \\\n",
       "0   9364   38            Private  197077   HS-grad              9   \n",
       "1  25668   31            Private  101761   HS-grad              9   \n",
       "2  13316   26            Private  152855   HS-grad              9   \n",
       "3  28750   50   Self-emp-not-inc   99894   5th-6th              3   \n",
       "4  30619   35            Private  412379   HS-grad              9   \n",
       "\n",
       "        marital_status        occupation    relationship                 race  \\\n",
       "0   Married-civ-spouse     Other-service         Husband                White   \n",
       "1   Married-civ-spouse      Craft-repair         Husband                White   \n",
       "2        Never-married   Exec-managerial       Own-child                Other   \n",
       "3        Never-married      Tech-support   Not-in-family   Asian-Pac-Islander   \n",
       "4        Never-married     Other-service   Not-in-family                White   \n",
       "\n",
       "    gender  capital_gain  capital_loss  hour_per_week  native_country  income  \\\n",
       "0     Male             0             0             40             1.0   <=50K   \n",
       "1     Male             0             0             51             1.0   <=50K   \n",
       "2   Female             0             0             40             2.0   <=50K   \n",
       "3   Female             0             0             15             1.0   <=50K   \n",
       "4   Female             0             0             40             1.0   <=50K   \n",
       "\n",
       "   income>50K  occup_catagory  \n",
       "0           0               0  \n",
       "1           0               0  \n",
       "2           0               2  \n",
       "3           0               0  \n",
       "4           0               0  "
      ]
     },
     "execution_count": 201,
     "metadata": {},
     "output_type": "execute_result"
    }
   ],
   "source": [
    "data.head()"
   ]
  },
  {
   "cell_type": "code",
   "execution_count": 219,
   "metadata": {
    "collapsed": false
   },
   "outputs": [
    {
     "data": {
      "text/plain": [
       "count    178.000000\n",
       "mean      29.882022\n",
       "std       10.678275\n",
       "min       17.000000\n",
       "25%       22.000000\n",
       "50%       26.500000\n",
       "75%       34.750000\n",
       "max       67.000000\n",
       "Name: age, dtype: float64"
      ]
     },
     "execution_count": 219,
     "metadata": {},
     "output_type": "execute_result"
    }
   ],
   "source": [
    "d = data[data[\"marital_status\"] == \" Never-married\"]\n",
    "d.age.describe()"
   ]
  },
  {
   "cell_type": "code",
   "execution_count": null,
   "metadata": {
    "collapsed": true
   },
   "outputs": [],
   "source": []
  }
 ],
 "metadata": {
  "kernelspec": {
   "display_name": "Python 2",
   "language": "python",
   "name": "python2"
  },
  "language_info": {
   "codemirror_mode": {
    "name": "ipython",
    "version": 2
   },
   "file_extension": ".py",
   "mimetype": "text/x-python",
   "name": "python",
   "nbconvert_exporter": "python",
   "pygments_lexer": "ipython2",
   "version": "2.7.13"
  }
 },
 "nbformat": 4,
 "nbformat_minor": 2
}
