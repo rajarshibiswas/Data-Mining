{
 "cells": [
  {
   "cell_type": "code",
   "execution_count": 44,
   "metadata": {
    "collapsed": true
   },
   "outputs": [],
   "source": [
    "import pandas as pd\n",
    "import numpy as np\n"
   ]
  },
  {
   "cell_type": "code",
   "execution_count": 43,
   "metadata": {
    "collapsed": true
   },
   "outputs": [],
   "source": [
    "import matplotlib.pyplot as plt \n",
    "%matplotlib inline"
   ]
  },
  {
   "cell_type": "code",
   "execution_count": 8,
   "metadata": {
    "collapsed": true
   },
   "outputs": [],
   "source": [
    "path ='/Users/Rajarshi/income_tr.csv'"
   ]
  },
  {
   "cell_type": "code",
   "execution_count": 68,
   "metadata": {
    "collapsed": false
   },
   "outputs": [],
   "source": [
    "data = pd.read_csv(path)"
   ]
  },
  {
   "cell_type": "code",
   "execution_count": 69,
   "metadata": {
    "collapsed": false,
    "scrolled": true
   },
   "outputs": [
    {
     "data": {
      "text/html": [
       "<div>\n",
       "<table border=\"1\" class=\"dataframe\">\n",
       "  <thead>\n",
       "    <tr style=\"text-align: right;\">\n",
       "      <th></th>\n",
       "      <th>ID</th>\n",
       "      <th>age</th>\n",
       "      <th>workclass</th>\n",
       "      <th>fnlwgt</th>\n",
       "      <th>education</th>\n",
       "      <th>education_cat</th>\n",
       "      <th>marital_status</th>\n",
       "      <th>occupation</th>\n",
       "      <th>relationship</th>\n",
       "      <th>race</th>\n",
       "      <th>gender</th>\n",
       "      <th>capital_gain</th>\n",
       "      <th>capital_loss</th>\n",
       "      <th>hour_per_week</th>\n",
       "      <th>native_country</th>\n",
       "      <th>class</th>\n",
       "    </tr>\n",
       "  </thead>\n",
       "  <tbody>\n",
       "    <tr>\n",
       "      <th>0</th>\n",
       "      <td>9364</td>\n",
       "      <td>38</td>\n",
       "      <td>Private</td>\n",
       "      <td>197077</td>\n",
       "      <td>HS-grad</td>\n",
       "      <td>9</td>\n",
       "      <td>Married-civ-spouse</td>\n",
       "      <td>Other-service</td>\n",
       "      <td>Husband</td>\n",
       "      <td>White</td>\n",
       "      <td>Male</td>\n",
       "      <td>0</td>\n",
       "      <td>0</td>\n",
       "      <td>40</td>\n",
       "      <td>United-States</td>\n",
       "      <td>&lt;=50K</td>\n",
       "    </tr>\n",
       "    <tr>\n",
       "      <th>1</th>\n",
       "      <td>25668</td>\n",
       "      <td>31</td>\n",
       "      <td>Private</td>\n",
       "      <td>101761</td>\n",
       "      <td>HS-grad</td>\n",
       "      <td>9</td>\n",
       "      <td>Married-civ-spouse</td>\n",
       "      <td>Craft-repair</td>\n",
       "      <td>Husband</td>\n",
       "      <td>White</td>\n",
       "      <td>Male</td>\n",
       "      <td>0</td>\n",
       "      <td>0</td>\n",
       "      <td>51</td>\n",
       "      <td>United-States</td>\n",
       "      <td>&lt;=50K</td>\n",
       "    </tr>\n",
       "    <tr>\n",
       "      <th>2</th>\n",
       "      <td>13316</td>\n",
       "      <td>26</td>\n",
       "      <td>Private</td>\n",
       "      <td>152855</td>\n",
       "      <td>HS-grad</td>\n",
       "      <td>9</td>\n",
       "      <td>Never-married</td>\n",
       "      <td>Exec-managerial</td>\n",
       "      <td>Own-child</td>\n",
       "      <td>Other</td>\n",
       "      <td>Female</td>\n",
       "      <td>0</td>\n",
       "      <td>0</td>\n",
       "      <td>40</td>\n",
       "      <td>Mexico</td>\n",
       "      <td>&lt;=50K</td>\n",
       "    </tr>\n",
       "    <tr>\n",
       "      <th>3</th>\n",
       "      <td>28750</td>\n",
       "      <td>50</td>\n",
       "      <td>Self-emp-not-inc</td>\n",
       "      <td>99894</td>\n",
       "      <td>5th-6th</td>\n",
       "      <td>3</td>\n",
       "      <td>Never-married</td>\n",
       "      <td>Tech-support</td>\n",
       "      <td>Not-in-family</td>\n",
       "      <td>Asian-Pac-Islander</td>\n",
       "      <td>Female</td>\n",
       "      <td>0</td>\n",
       "      <td>0</td>\n",
       "      <td>15</td>\n",
       "      <td>United-States</td>\n",
       "      <td>&lt;=50K</td>\n",
       "    </tr>\n",
       "    <tr>\n",
       "      <th>4</th>\n",
       "      <td>30619</td>\n",
       "      <td>35</td>\n",
       "      <td>Private</td>\n",
       "      <td>412379</td>\n",
       "      <td>HS-grad</td>\n",
       "      <td>9</td>\n",
       "      <td>Never-married</td>\n",
       "      <td>Other-service</td>\n",
       "      <td>Not-in-family</td>\n",
       "      <td>White</td>\n",
       "      <td>Female</td>\n",
       "      <td>0</td>\n",
       "      <td>0</td>\n",
       "      <td>40</td>\n",
       "      <td>United-States</td>\n",
       "      <td>&lt;=50K</td>\n",
       "    </tr>\n",
       "  </tbody>\n",
       "</table>\n",
       "</div>"
      ],
      "text/plain": [
       "      ID  age          workclass  fnlwgt education  education_cat  \\\n",
       "0   9364   38            Private  197077   HS-grad              9   \n",
       "1  25668   31            Private  101761   HS-grad              9   \n",
       "2  13316   26            Private  152855   HS-grad              9   \n",
       "3  28750   50   Self-emp-not-inc   99894   5th-6th              3   \n",
       "4  30619   35            Private  412379   HS-grad              9   \n",
       "\n",
       "        marital_status        occupation    relationship                 race  \\\n",
       "0   Married-civ-spouse     Other-service         Husband                White   \n",
       "1   Married-civ-spouse      Craft-repair         Husband                White   \n",
       "2        Never-married   Exec-managerial       Own-child                Other   \n",
       "3        Never-married      Tech-support   Not-in-family   Asian-Pac-Islander   \n",
       "4        Never-married     Other-service   Not-in-family                White   \n",
       "\n",
       "    gender  capital_gain  capital_loss  hour_per_week  native_country   class  \n",
       "0     Male             0             0             40   United-States   <=50K  \n",
       "1     Male             0             0             51   United-States   <=50K  \n",
       "2   Female             0             0             40          Mexico   <=50K  \n",
       "3   Female             0             0             15   United-States   <=50K  \n",
       "4   Female             0             0             40   United-States   <=50K  "
      ]
     },
     "execution_count": 69,
     "metadata": {},
     "output_type": "execute_result"
    }
   ],
   "source": [
    "data.head()"
   ]
  },
  {
   "cell_type": "code",
   "execution_count": 70,
   "metadata": {
    "collapsed": false
   },
   "outputs": [
    {
     "data": {
      "text/html": [
       "<div>\n",
       "<table border=\"1\" class=\"dataframe\">\n",
       "  <thead>\n",
       "    <tr style=\"text-align: right;\">\n",
       "      <th></th>\n",
       "      <th>ID</th>\n",
       "      <th>age</th>\n",
       "      <th>workclass</th>\n",
       "      <th>fnlwgt</th>\n",
       "      <th>education</th>\n",
       "      <th>education_cat</th>\n",
       "      <th>marital_status</th>\n",
       "      <th>occupation</th>\n",
       "      <th>relationship</th>\n",
       "      <th>race</th>\n",
       "      <th>gender</th>\n",
       "      <th>capital_gain</th>\n",
       "      <th>capital_loss</th>\n",
       "      <th>hour_per_week</th>\n",
       "      <th>native_country</th>\n",
       "      <th>class</th>\n",
       "    </tr>\n",
       "  </thead>\n",
       "  <tbody>\n",
       "    <tr>\n",
       "      <th>515</th>\n",
       "      <td>5504</td>\n",
       "      <td>21</td>\n",
       "      <td>Private</td>\n",
       "      <td>221955</td>\n",
       "      <td>HS-grad</td>\n",
       "      <td>9</td>\n",
       "      <td>Never-married</td>\n",
       "      <td>Machine-op-inspct</td>\n",
       "      <td>Unmarried</td>\n",
       "      <td>White</td>\n",
       "      <td>Male</td>\n",
       "      <td>0</td>\n",
       "      <td>0</td>\n",
       "      <td>40</td>\n",
       "      <td>Mexico</td>\n",
       "      <td>&lt;=50K</td>\n",
       "    </tr>\n",
       "    <tr>\n",
       "      <th>516</th>\n",
       "      <td>14573</td>\n",
       "      <td>26</td>\n",
       "      <td>Private</td>\n",
       "      <td>272669</td>\n",
       "      <td>Bachelors</td>\n",
       "      <td>13</td>\n",
       "      <td>Never-married</td>\n",
       "      <td>Sales</td>\n",
       "      <td>Not-in-family</td>\n",
       "      <td>Asian-Pac-Islander</td>\n",
       "      <td>Male</td>\n",
       "      <td>0</td>\n",
       "      <td>0</td>\n",
       "      <td>20</td>\n",
       "      <td>South</td>\n",
       "      <td>&lt;=50K</td>\n",
       "    </tr>\n",
       "    <tr>\n",
       "      <th>517</th>\n",
       "      <td>24681</td>\n",
       "      <td>43</td>\n",
       "      <td>Federal-gov</td>\n",
       "      <td>95902</td>\n",
       "      <td>Assoc-acdm</td>\n",
       "      <td>12</td>\n",
       "      <td>Married-civ-spouse</td>\n",
       "      <td>Prof-specialty</td>\n",
       "      <td>Wife</td>\n",
       "      <td>Black</td>\n",
       "      <td>Female</td>\n",
       "      <td>0</td>\n",
       "      <td>0</td>\n",
       "      <td>40</td>\n",
       "      <td>United-States</td>\n",
       "      <td>&lt;=50K</td>\n",
       "    </tr>\n",
       "    <tr>\n",
       "      <th>518</th>\n",
       "      <td>2008</td>\n",
       "      <td>24</td>\n",
       "      <td>Private</td>\n",
       "      <td>296045</td>\n",
       "      <td>7th-8th</td>\n",
       "      <td>4</td>\n",
       "      <td>Married-civ-spouse</td>\n",
       "      <td>Craft-repair</td>\n",
       "      <td>Husband</td>\n",
       "      <td>White</td>\n",
       "      <td>Male</td>\n",
       "      <td>2635</td>\n",
       "      <td>0</td>\n",
       "      <td>38</td>\n",
       "      <td>United-States</td>\n",
       "      <td>&lt;=50K</td>\n",
       "    </tr>\n",
       "    <tr>\n",
       "      <th>519</th>\n",
       "      <td>26117</td>\n",
       "      <td>26</td>\n",
       "      <td>Local-gov</td>\n",
       "      <td>219760</td>\n",
       "      <td>HS-grad</td>\n",
       "      <td>9</td>\n",
       "      <td>Never-married</td>\n",
       "      <td>Other-service</td>\n",
       "      <td>Other-relative</td>\n",
       "      <td>White</td>\n",
       "      <td>Male</td>\n",
       "      <td>0</td>\n",
       "      <td>0</td>\n",
       "      <td>16</td>\n",
       "      <td>United-States</td>\n",
       "      <td>&lt;=50K</td>\n",
       "    </tr>\n",
       "  </tbody>\n",
       "</table>\n",
       "</div>"
      ],
      "text/plain": [
       "        ID  age     workclass  fnlwgt    education  education_cat  \\\n",
       "515   5504   21       Private  221955      HS-grad              9   \n",
       "516  14573   26       Private  272669    Bachelors             13   \n",
       "517  24681   43   Federal-gov   95902   Assoc-acdm             12   \n",
       "518   2008   24       Private  296045      7th-8th              4   \n",
       "519  26117   26     Local-gov  219760      HS-grad              9   \n",
       "\n",
       "          marital_status          occupation     relationship  \\\n",
       "515        Never-married   Machine-op-inspct        Unmarried   \n",
       "516        Never-married               Sales    Not-in-family   \n",
       "517   Married-civ-spouse      Prof-specialty             Wife   \n",
       "518   Married-civ-spouse        Craft-repair          Husband   \n",
       "519        Never-married       Other-service   Other-relative   \n",
       "\n",
       "                    race   gender  capital_gain  capital_loss  hour_per_week  \\\n",
       "515                White     Male             0             0             40   \n",
       "516   Asian-Pac-Islander     Male             0             0             20   \n",
       "517                Black   Female             0             0             40   \n",
       "518                White     Male          2635             0             38   \n",
       "519                White     Male             0             0             16   \n",
       "\n",
       "     native_country   class  \n",
       "515          Mexico   <=50K  \n",
       "516           South   <=50K  \n",
       "517   United-States   <=50K  \n",
       "518   United-States   <=50K  \n",
       "519   United-States   <=50K  "
      ]
     },
     "execution_count": 70,
     "metadata": {},
     "output_type": "execute_result"
    }
   ],
   "source": [
    "data.tail()"
   ]
  },
  {
   "cell_type": "code",
   "execution_count": 141,
   "metadata": {
    "collapsed": false
   },
   "outputs": [
    {
     "data": {
      "text/plain": [
       "<matplotlib.axes._subplots.AxesSubplot at 0x10a957410>"
      ]
     },
     "execution_count": 141,
     "metadata": {},
     "output_type": "execute_result"
    },
    {
     "data": {
      "image/png": "[encoded data removed]",
      "text/plain": [
       "<matplotlib.figure.Figure at 0x109e89350>"
      ]
     },
     "metadata": {},
     "output_type": "display_data"
    }
   ],
   "source": [
    "data.age.value_counts()\n",
    "data.age.hist()"
   ]
  },
  {
   "cell_type": "code",
   "execution_count": 90,
   "metadata": {
    "collapsed": false
   },
   "outputs": [
    {
     "data": {
      "text/plain": [
       " <=50K    420\n",
       " >50K     100\n",
       "Name: income, dtype: int64"
      ]
     },
     "execution_count": 90,
     "metadata": {},
     "output_type": "execute_result"
    }
   ],
   "source": [
    "data = data.rename(columns={\"class\": \"income\"})\n",
    "#data.head()\n",
    "data.income.value_counts()"
   ]
  },
  {
   "cell_type": "code",
   "execution_count": 91,
   "metadata": {
    "collapsed": false
   },
   "outputs": [
    {
     "data": {
      "text/plain": [
       "0    420\n",
       "1    100\n",
       "Name: income>50K, dtype: int64"
      ]
     },
     "execution_count": 91,
     "metadata": {},
     "output_type": "execute_result"
    }
   ],
   "source": [
    "data['income>50K'] = np.where(data.income == ' <=50K', 0, 1) \n",
    "data['income>50K'].value_counts()"
   ]
  },
  {
   "cell_type": "code",
   "execution_count": 94,
   "metadata": {
    "collapsed": false
   },
   "outputs": [],
   "source": [
    "# a function similar to make_df_simple, but with one more column\n",
    "def make_df(df, feature):\n",
    "    df_less50K = df.loc[df['income>50K']==0, feature].value_counts().sort_index()\n",
    "    df_more50K = df.loc[df['income>50K']==1, feature].value_counts().sort_index()\n",
    "    df_sep = pd.concat([df_less50K, df_more50K], axis=1)\n",
    "    df_sep.columns = ['<50K', '>50K']\n",
    "    df_sep = df_sep.fillna(value=0)\n",
    "    df_sep['total'] = df_sep.sum(axis=1)\n",
    "    df_sep['percent of >50K'] = (df_sep['>50K'] / df_sep['total']) *100\n",
    "    df_sep.sort_values(by=['percent of >50K'], ascending=False, inplace=True)\n",
    "    return df_sep"
   ]
  },
  {
   "cell_type": "code",
   "execution_count": 154,
   "metadata": {
    "collapsed": false
   },
   "outputs": [
    {
     "data": {
      "text/plain": [
       " Self-emp-inc         5\n",
       " Local-gov            9\n",
       " Federal-gov          4\n",
       " State-gov            5\n",
       " Self-emp-not-inc     8\n",
       " ?                    5\n",
       " Private             64\n",
       "Name: >50K, dtype: int64"
      ]
     },
     "execution_count": 154,
     "metadata": {},
     "output_type": "execute_result"
    }
   ],
   "source": [
    "# Distribution corresponding to the workclass\n",
    "df_work_class = make_df(data, 'workclass')\n",
    "df_work_class['>50K']"
   ]
  },
  {
   "cell_type": "code",
   "execution_count": 134,
   "metadata": {
    "collapsed": false
   },
   "outputs": [
    {
     "data": {
      "text/html": [
       "<div>\n",
       "<table border=\"1\" class=\"dataframe\">\n",
       "  <thead>\n",
       "    <tr style=\"text-align: right;\">\n",
       "      <th></th>\n",
       "      <th>&lt;50K</th>\n",
       "      <th>&gt;50K</th>\n",
       "      <th>total</th>\n",
       "      <th>percent of &gt;50K</th>\n",
       "    </tr>\n",
       "  </thead>\n",
       "  <tbody>\n",
       "    <tr>\n",
       "      <th>Doctorate</th>\n",
       "      <td>1</td>\n",
       "      <td>6.0</td>\n",
       "      <td>7.0</td>\n",
       "      <td>85.714286</td>\n",
       "    </tr>\n",
       "    <tr>\n",
       "      <th>Masters</th>\n",
       "      <td>11</td>\n",
       "      <td>17.0</td>\n",
       "      <td>28.0</td>\n",
       "      <td>60.714286</td>\n",
       "    </tr>\n",
       "    <tr>\n",
       "      <th>Prof-school</th>\n",
       "      <td>4</td>\n",
       "      <td>6.0</td>\n",
       "      <td>10.0</td>\n",
       "      <td>60.000000</td>\n",
       "    </tr>\n",
       "    <tr>\n",
       "      <th>Bachelors</th>\n",
       "      <td>56</td>\n",
       "      <td>28.0</td>\n",
       "      <td>84.0</td>\n",
       "      <td>33.333333</td>\n",
       "    </tr>\n",
       "    <tr>\n",
       "      <th>Assoc-voc</th>\n",
       "      <td>15</td>\n",
       "      <td>4.0</td>\n",
       "      <td>19.0</td>\n",
       "      <td>21.052632</td>\n",
       "    </tr>\n",
       "    <tr>\n",
       "      <th>7th-8th</th>\n",
       "      <td>12</td>\n",
       "      <td>2.0</td>\n",
       "      <td>14.0</td>\n",
       "      <td>14.285714</td>\n",
       "    </tr>\n",
       "    <tr>\n",
       "      <th>Some-college</th>\n",
       "      <td>102</td>\n",
       "      <td>15.0</td>\n",
       "      <td>117.0</td>\n",
       "      <td>12.820513</td>\n",
       "    </tr>\n",
       "    <tr>\n",
       "      <th>HS-grad</th>\n",
       "      <td>142</td>\n",
       "      <td>19.0</td>\n",
       "      <td>161.0</td>\n",
       "      <td>11.801242</td>\n",
       "    </tr>\n",
       "    <tr>\n",
       "      <th>9th</th>\n",
       "      <td>9</td>\n",
       "      <td>1.0</td>\n",
       "      <td>10.0</td>\n",
       "      <td>10.000000</td>\n",
       "    </tr>\n",
       "    <tr>\n",
       "      <th>Assoc-acdm</th>\n",
       "      <td>18</td>\n",
       "      <td>2.0</td>\n",
       "      <td>20.0</td>\n",
       "      <td>10.000000</td>\n",
       "    </tr>\n",
       "    <tr>\n",
       "      <th>10th</th>\n",
       "      <td>11</td>\n",
       "      <td>0.0</td>\n",
       "      <td>11.0</td>\n",
       "      <td>0.000000</td>\n",
       "    </tr>\n",
       "    <tr>\n",
       "      <th>11th</th>\n",
       "      <td>23</td>\n",
       "      <td>0.0</td>\n",
       "      <td>23.0</td>\n",
       "      <td>0.000000</td>\n",
       "    </tr>\n",
       "    <tr>\n",
       "      <th>12th</th>\n",
       "      <td>8</td>\n",
       "      <td>0.0</td>\n",
       "      <td>8.0</td>\n",
       "      <td>0.000000</td>\n",
       "    </tr>\n",
       "    <tr>\n",
       "      <th>1st-4th</th>\n",
       "      <td>3</td>\n",
       "      <td>0.0</td>\n",
       "      <td>3.0</td>\n",
       "      <td>0.000000</td>\n",
       "    </tr>\n",
       "    <tr>\n",
       "      <th>5th-6th</th>\n",
       "      <td>4</td>\n",
       "      <td>0.0</td>\n",
       "      <td>4.0</td>\n",
       "      <td>0.000000</td>\n",
       "    </tr>\n",
       "    <tr>\n",
       "      <th>Preschool</th>\n",
       "      <td>1</td>\n",
       "      <td>0.0</td>\n",
       "      <td>1.0</td>\n",
       "      <td>0.000000</td>\n",
       "    </tr>\n",
       "  </tbody>\n",
       "</table>\n",
       "</div>"
      ],
      "text/plain": [
       "               <50K  >50K  total  percent of >50K\n",
       " Doctorate        1   6.0    7.0        85.714286\n",
       " Masters         11  17.0   28.0        60.714286\n",
       " Prof-school      4   6.0   10.0        60.000000\n",
       " Bachelors       56  28.0   84.0        33.333333\n",
       " Assoc-voc       15   4.0   19.0        21.052632\n",
       " 7th-8th         12   2.0   14.0        14.285714\n",
       " Some-college   102  15.0  117.0        12.820513\n",
       " HS-grad        142  19.0  161.0        11.801242\n",
       " 9th              9   1.0   10.0        10.000000\n",
       " Assoc-acdm      18   2.0   20.0        10.000000\n",
       " 10th            11   0.0   11.0         0.000000\n",
       " 11th            23   0.0   23.0         0.000000\n",
       " 12th             8   0.0    8.0         0.000000\n",
       " 1st-4th          3   0.0    3.0         0.000000\n",
       " 5th-6th          4   0.0    4.0         0.000000\n",
       " Preschool        1   0.0    1.0         0.000000"
      ]
     },
     "execution_count": 134,
     "metadata": {},
     "output_type": "execute_result"
    }
   ],
   "source": [
    "# Distribution corresponding to Edudation\n",
    "df_ed = make_df(data, 'education')\n",
    "df_ed"
   ]
  },
  {
   "cell_type": "code",
   "execution_count": 111,
   "metadata": {
    "collapsed": false
   },
   "outputs": [
    {
     "data": {
      "text/html": [
       "<div>\n",
       "<table border=\"1\" class=\"dataframe\">\n",
       "  <thead>\n",
       "    <tr style=\"text-align: right;\">\n",
       "      <th></th>\n",
       "      <th>&lt;50K</th>\n",
       "      <th>&gt;50K</th>\n",
       "      <th>total</th>\n",
       "      <th>percent of &gt;50K</th>\n",
       "    </tr>\n",
       "  </thead>\n",
       "  <tbody>\n",
       "    <tr>\n",
       "      <th>Doctorate</th>\n",
       "      <td>1.0</td>\n",
       "      <td>6.0</td>\n",
       "      <td>7.0</td>\n",
       "      <td>85.714286</td>\n",
       "    </tr>\n",
       "    <tr>\n",
       "      <th>Prof-school</th>\n",
       "      <td>11.0</td>\n",
       "      <td>17.0</td>\n",
       "      <td>28.0</td>\n",
       "      <td>60.714286</td>\n",
       "    </tr>\n",
       "    <tr>\n",
       "      <th>Masters</th>\n",
       "      <td>4.0</td>\n",
       "      <td>6.0</td>\n",
       "      <td>10.0</td>\n",
       "      <td>60.000000</td>\n",
       "    </tr>\n",
       "    <tr>\n",
       "      <th>Bachelors</th>\n",
       "      <td>56.0</td>\n",
       "      <td>28.0</td>\n",
       "      <td>84.0</td>\n",
       "      <td>33.333333</td>\n",
       "    </tr>\n",
       "    <tr>\n",
       "      <th>Other</th>\n",
       "      <td>348.0</td>\n",
       "      <td>43.0</td>\n",
       "      <td>391.0</td>\n",
       "      <td>10.997442</td>\n",
       "    </tr>\n",
       "  </tbody>\n",
       "</table>\n",
       "</div>"
      ],
      "text/plain": [
       "              <50K  >50K  total  percent of >50K\n",
       "Doctorate      1.0   6.0    7.0        85.714286\n",
       "Prof-school   11.0  17.0   28.0        60.714286\n",
       "Masters        4.0   6.0   10.0        60.000000\n",
       "Bachelors     56.0  28.0   84.0        33.333333\n",
       "Other        348.0  43.0  391.0        10.997442"
      ]
     },
     "execution_count": 111,
     "metadata": {},
     "output_type": "execute_result"
    }
   ],
   "source": [
    "df_ed_temp = df_ed.loc[' Assoc-voc':' Preschool', :].copy()\n",
    "df_ed_temp2 = df_ed.loc[' Doctorate':' Bachelors', :].copy()\n",
    "df_ed_new = pd.concat([df_ed_temp2.T, df_ed_temp.sum(axis=0)], axis=1)\n",
    "df_ed_new.columns = ['Doctorate', 'Prof-school', 'Masters', 'Bachelors', 'Other']\n",
    "df_ed_new = df_ed_new.T\n",
    "df_ed_new['percent of >50K'] = (df_ed_new['>50K'] / (df_ed_new['<50K'] + df_ed_new['>50K']))*100\n",
    "df_ed_new"
   ]
  },
  {
   "cell_type": "code",
   "execution_count": 112,
   "metadata": {
    "collapsed": false
   },
   "outputs": [
    {
     "data": {
      "image/png": "[encoded data removed]",
      "text/plain": [
       "<matplotlib.figure.Figure at 0x10ac3bd10>"
      ]
     },
     "metadata": {},
     "output_type": "display_data"
    }
   ],
   "source": [
    "plt.figure(figsize=(18, 3.2))\n",
    "for i in range(5):\n",
    "    labels = \">50K\", \"<50K\"\n",
    "    explode = (0.1, 0)\n",
    "    toPie = [df_ed_new.iloc[i, 0], df_ed_new.iloc[i, 1]]\n",
    "    plt.subplot(1, 5, i+1)\n",
    "    plt.pie(toPie, explode=explode, labels=labels, colors=['#bb0000', '#666666'],\n",
    "        autopct='%1.1f%%', shadow=False, startangle=140);\n",
    "    plt.title(df_ed_new.index[i], fontsize=15)"
   ]
  },
  {
   "cell_type": "code",
   "execution_count": 113,
   "metadata": {
    "collapsed": false
   },
   "outputs": [
    {
     "data": {
      "text/plain": [
       "<matplotlib.axes._subplots.AxesSubplot at 0x10a860b10>"
      ]
     },
     "execution_count": 113,
     "metadata": {},
     "output_type": "execute_result"
    },
    {
     "data": {
      "image/png": "[encoded data removed]",
      "text/plain": [
       "<matplotlib.figure.Figure at 0x10ae99f10>"
      ]
     },
     "metadata": {},
     "output_type": "display_data"
    }
   ],
   "source": [
    "df_ed_new[\"percent of >50K\"].plot()"
   ]
  },
  {
   "cell_type": "code",
   "execution_count": 155,
   "metadata": {
    "collapsed": false
   },
   "outputs": [
    {
     "data": {
      "text/plain": [
       "array([' Other-service', ' Craft-repair', ' Exec-managerial',\n",
       "       ' Tech-support', ' Sales', ' Machine-op-inspct', ' Prof-specialty',\n",
       "       ' Handlers-cleaners', ' ?', ' Transport-moving', ' Adm-clerical',\n",
       "       ' Protective-serv', ' Priv-house-serv', ' Farming-fishing'], dtype=object)"
      ]
     },
     "execution_count": 155,
     "metadata": {},
     "output_type": "execute_result"
    }
   ],
   "source": [
    "# Analysis based on the occupation\n",
    "data['occupation'].unique()"
   ]
  },
  {
   "cell_type": "code",
   "execution_count": 133,
   "metadata": {
    "collapsed": false
   },
   "outputs": [
    {
     "data": {
      "text/html": [
       "<div>\n",
       "<table border=\"1\" class=\"dataframe\">\n",
       "  <thead>\n",
       "    <tr style=\"text-align: right;\">\n",
       "      <th></th>\n",
       "      <th>&lt;50K</th>\n",
       "      <th>&gt;50K</th>\n",
       "      <th>total</th>\n",
       "      <th>percent of &gt;50K</th>\n",
       "    </tr>\n",
       "  </thead>\n",
       "  <tbody>\n",
       "    <tr>\n",
       "      <th>Prof-specialty</th>\n",
       "      <td>39</td>\n",
       "      <td>28.0</td>\n",
       "      <td>67.0</td>\n",
       "      <td>41.791045</td>\n",
       "    </tr>\n",
       "    <tr>\n",
       "      <th>Exec-managerial</th>\n",
       "      <td>38</td>\n",
       "      <td>27.0</td>\n",
       "      <td>65.0</td>\n",
       "      <td>41.538462</td>\n",
       "    </tr>\n",
       "    <tr>\n",
       "      <th>Farming-fishing</th>\n",
       "      <td>11</td>\n",
       "      <td>4.0</td>\n",
       "      <td>15.0</td>\n",
       "      <td>26.666667</td>\n",
       "    </tr>\n",
       "    <tr>\n",
       "      <th>Sales</th>\n",
       "      <td>40</td>\n",
       "      <td>9.0</td>\n",
       "      <td>49.0</td>\n",
       "      <td>18.367347</td>\n",
       "    </tr>\n",
       "    <tr>\n",
       "      <th>?</th>\n",
       "      <td>23</td>\n",
       "      <td>5.0</td>\n",
       "      <td>28.0</td>\n",
       "      <td>17.857143</td>\n",
       "    </tr>\n",
       "    <tr>\n",
       "      <th>Craft-repair</th>\n",
       "      <td>55</td>\n",
       "      <td>10.0</td>\n",
       "      <td>65.0</td>\n",
       "      <td>15.384615</td>\n",
       "    </tr>\n",
       "    <tr>\n",
       "      <th>Tech-support</th>\n",
       "      <td>16</td>\n",
       "      <td>2.0</td>\n",
       "      <td>18.0</td>\n",
       "      <td>11.111111</td>\n",
       "    </tr>\n",
       "    <tr>\n",
       "      <th>Adm-clerical</th>\n",
       "      <td>65</td>\n",
       "      <td>8.0</td>\n",
       "      <td>73.0</td>\n",
       "      <td>10.958904</td>\n",
       "    </tr>\n",
       "    <tr>\n",
       "      <th>Protective-serv</th>\n",
       "      <td>9</td>\n",
       "      <td>1.0</td>\n",
       "      <td>10.0</td>\n",
       "      <td>10.000000</td>\n",
       "    </tr>\n",
       "    <tr>\n",
       "      <th>Handlers-cleaners</th>\n",
       "      <td>20</td>\n",
       "      <td>2.0</td>\n",
       "      <td>22.0</td>\n",
       "      <td>9.090909</td>\n",
       "    </tr>\n",
       "    <tr>\n",
       "      <th>Machine-op-inspct</th>\n",
       "      <td>30</td>\n",
       "      <td>3.0</td>\n",
       "      <td>33.0</td>\n",
       "      <td>9.090909</td>\n",
       "    </tr>\n",
       "    <tr>\n",
       "      <th>Transport-moving</th>\n",
       "      <td>18</td>\n",
       "      <td>1.0</td>\n",
       "      <td>19.0</td>\n",
       "      <td>5.263158</td>\n",
       "    </tr>\n",
       "    <tr>\n",
       "      <th>Other-service</th>\n",
       "      <td>51</td>\n",
       "      <td>0.0</td>\n",
       "      <td>51.0</td>\n",
       "      <td>0.000000</td>\n",
       "    </tr>\n",
       "    <tr>\n",
       "      <th>Priv-house-serv</th>\n",
       "      <td>5</td>\n",
       "      <td>0.0</td>\n",
       "      <td>5.0</td>\n",
       "      <td>0.000000</td>\n",
       "    </tr>\n",
       "  </tbody>\n",
       "</table>\n",
       "</div>"
      ],
      "text/plain": [
       "                    <50K  >50K  total  percent of >50K\n",
       " Prof-specialty       39  28.0   67.0        41.791045\n",
       " Exec-managerial      38  27.0   65.0        41.538462\n",
       " Farming-fishing      11   4.0   15.0        26.666667\n",
       " Sales                40   9.0   49.0        18.367347\n",
       " ?                    23   5.0   28.0        17.857143\n",
       " Craft-repair         55  10.0   65.0        15.384615\n",
       " Tech-support         16   2.0   18.0        11.111111\n",
       " Adm-clerical         65   8.0   73.0        10.958904\n",
       " Protective-serv       9   1.0   10.0        10.000000\n",
       " Handlers-cleaners    20   2.0   22.0         9.090909\n",
       " Machine-op-inspct    30   3.0   33.0         9.090909\n",
       " Transport-moving     18   1.0   19.0         5.263158\n",
       " Other-service        51   0.0   51.0         0.000000\n",
       " Priv-house-serv       5   0.0    5.0         0.000000"
      ]
     },
     "execution_count": 133,
     "metadata": {},
     "output_type": "execute_result"
    }
   ],
   "source": [
    "df_occu = make_df(data, 'occupation')\n",
    "df_occu"
   ]
  },
  {
   "cell_type": "code",
   "execution_count": null,
   "metadata": {
    "collapsed": true
   },
   "outputs": [],
   "source": [
    "df_ed_temp = df_ed.loc[' Prof-specialty':' Preschool', :].copy()\n",
    "df_ed_temp2 = df_ed.loc[' Doctorate':' Bachelors', :].copy()\n",
    "df_ed_new = pd.concat([df_ed_temp2.T, df_ed_temp.sum(axis=0)], axis=1)\n",
    "df_ed_new.columns = ['Doctorate', 'Prof-school', 'Masters', 'Bachelors', 'Other']\n",
    "df_ed_new = df_ed_new.T\n",
    "df_ed_new['percent of >50K'] = (df_ed_new['>50K'] / (df_ed_new['<50K'] + df_ed_new['>50K']))*100\n",
    "df_ed_new"
   ]
  },
  {
   "cell_type": "code",
   "execution_count": 183,
   "metadata": {
    "collapsed": false
   },
   "outputs": [],
   "source": [
    "# Catagorize the occupation\n",
    "data['occup_catagory'] = data.occupation.map ({' Other-service' : 0, ' Craft-repair' : 1, ' Exec-managerial' :2,\n",
    "       ' Tech-support' : 3, ' Sales': 4, ' Machine-op-inspct': 5, ' Prof-specialty' : 6,\n",
    "       ' Handlers-cleaners' : 7, ' ?': 8, ' Transport-moving' : 9, ' Adm-clerical' : 10,\n",
    "       ' Protective-serv' : 11, ' Priv-house-serv': 12, ' Farming-fishing':13})"
   ]
  },
  {
   "cell_type": "code",
   "execution_count": 288,
   "metadata": {
    "collapsed": true
   },
   "outputs": [],
   "source": [
    "# Catagorize the occupation\n",
    "data['occup_catagory'] = data.occupation.map ({' Other-service' : 0, ' Craft-repair' : 0, ' Exec-managerial' :2,\n",
    "       ' Tech-support' : 0, ' Sales': 0, ' Machine-op-inspct': 0, ' Prof-specialty' : 6,\n",
    "       ' Handlers-cleaners' : 0, ' ?': 0, ' Transport-moving' : 0, ' Adm-clerical' : 0,\n",
    "       ' Protective-serv' : 0, ' Priv-house-serv': 0, ' Farming-fishing':0})"
   ]
  },
  {
   "cell_type": "code",
   "execution_count": 333,
   "metadata": {
    "collapsed": false
   },
   "outputs": [
    {
     "data": {
      "text/plain": [
       " Private             365\n",
       " Self-emp-not-inc     38\n",
       " Local-gov            34\n",
       " ?                    28\n",
       " State-gov            23\n",
       " Federal-gov          18\n",
       " Self-emp-inc         14\n",
       "Name: workclass, dtype: int64"
      ]
     },
     "execution_count": 333,
     "metadata": {},
     "output_type": "execute_result"
    }
   ],
   "source": [
    "# Filter the occupation \"prof-speciality\" amd income more than 50k\n",
    "temp = data[data['occup_catagory'] == 6]\n",
    "temp = temp[temp['income>50K'] == 1]\n",
    "\n",
    "#temp.age.describe()\n",
    "#temp.education.value_counts().plot(kind = 'bar') # Polits the different education \n",
    "#temp\n",
    "# Worth noticing that All the doctorates that earns more than 50 K are doing this job\n",
    "#t = temp[temp['education']== ' Bachelors'].age\n",
    "#temp.age.describe()\n",
    "data.workclass.value_counts()\n",
    "#temp.workclass.value_counts()\n",
    "#temp.age.describe()"
   ]
  },
  {
   "cell_type": "code",
   "execution_count": 330,
   "metadata": {
    "collapsed": false
   },
   "outputs": [],
   "source": [
    "# Filter the occupation \"Exec\" amd income more than 50k\n",
    "temp = data[data['occup_catagory'] == 2]\n",
    "temp = temp[temp['income>50K'] == 1]\n",
    "\n",
    "#temp.age.describe()\n",
    "#temp.education.value_counts().plot(kind = 'bar') # Polits the different education \n",
    "#temp\n",
    "# Worth noticing that All the doctorates that earns more than 50 K are doing this job\n",
    "#t = temp[temp['education']== ' Bachelors'].age\n",
    "#temp.age.describe()\n",
    "\n"
   ]
  },
  {
   "cell_type": "code",
   "execution_count": 317,
   "metadata": {
    "collapsed": false
   },
   "outputs": [
    {
     "data": {
      "text/plain": [
       "count    15.000000\n",
       "mean     48.066667\n",
       "std      12.423863\n",
       "min      25.000000\n",
       "25%      42.500000\n",
       "50%      45.000000\n",
       "75%      58.500000\n",
       "max      72.000000\n",
       "Name: age, dtype: float64"
      ]
     },
     "execution_count": 317,
     "metadata": {},
     "output_type": "execute_result"
    },
    {
     "data": {
      "image/png": "[encoded data removed]",
      "text/plain": [
       "<matplotlib.figure.Figure at 0x10f38d390>"
      ]
     },
     "metadata": {},
     "output_type": "display_data"
    }
   ],
   "source": [
    "# Filter the occupation of other catagory \n",
    "temp = data[data['occup_catagory'] == 0]\n",
    "temp = temp[temp['income>50K'] == 1]\n",
    "\n",
    "#temp.age.describe()\n",
    "temp.education.value_counts().plot(kind = 'bar') # Polits the different education \n",
    "#temp.count()\n",
    "# Worth noticing that All the doctorates that earns more than 50 K are doing this job\n",
    "#t = temp[temp['education']== ' Bachelors'].age\n",
    "#temp.age.describe()\n",
    "temp = temp[temp['education'] == ' HS-grad']\n",
    "temp.age.describe()"
   ]
  },
  {
   "cell_type": "code",
   "execution_count": null,
   "metadata": {
    "collapsed": true
   },
   "outputs": [],
   "source": []
  },
  {
   "cell_type": "code",
   "execution_count": null,
   "metadata": {
    "collapsed": true
   },
   "outputs": [],
   "source": []
  }
 ],
 "metadata": {
  "kernelspec": {
   "display_name": "Python 2",
   "language": "python",
   "name": "python2"
  },
  "language_info": {
   "codemirror_mode": {
    "name": "ipython",
    "version": 2
   },
   "file_extension": ".py",
   "mimetype": "text/x-python",
   "name": "python",
   "nbconvert_exporter": "python",
   "pygments_lexer": "ipython2",
   "version": "2.7.13"
  }
 },
 "nbformat": 4,
 "nbformat_minor": 2
}
