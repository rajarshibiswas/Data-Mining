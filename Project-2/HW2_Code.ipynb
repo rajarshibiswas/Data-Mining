{
 "cells": [
  {
   "cell_type": "code",
   "execution_count": 134,
   "metadata": {
    "collapsed": true
   },
   "outputs": [],
   "source": [
    "import pandas as pd\n",
    "import numpy as np\n",
    "from sklearn.metrics import roc_curve, auc\n",
    "import matplotlib.pyplot as plt"
   ]
  },
  {
   "cell_type": "code",
   "execution_count": 159,
   "metadata": {
    "collapsed": false
   },
   "outputs": [
    {
     "data": {
      "text/html": [
       "<div>\n",
       "<table border=\"1\" class=\"dataframe\">\n",
       "  <thead>\n",
       "    <tr style=\"text-align: right;\">\n",
       "      <th></th>\n",
       "      <th>Transaction ID</th>\n",
       "      <th>Actual Class</th>\n",
       "      <th>Predicted Class</th>\n",
       "      <th>Posterior Probability</th>\n",
       "    </tr>\n",
       "  </thead>\n",
       "  <tbody>\n",
       "    <tr>\n",
       "      <th>0</th>\n",
       "      <td>1.0</td>\n",
       "      <td>&lt;=50K</td>\n",
       "      <td>&lt;=50K</td>\n",
       "      <td>0.8</td>\n",
       "    </tr>\n",
       "    <tr>\n",
       "      <th>1</th>\n",
       "      <td>2.0</td>\n",
       "      <td>&lt;=50K</td>\n",
       "      <td>&lt;=50K</td>\n",
       "      <td>1.0</td>\n",
       "    </tr>\n",
       "    <tr>\n",
       "      <th>2</th>\n",
       "      <td>3.0</td>\n",
       "      <td>&gt;50K</td>\n",
       "      <td>&lt;=50K</td>\n",
       "      <td>0.8</td>\n",
       "    </tr>\n",
       "    <tr>\n",
       "      <th>3</th>\n",
       "      <td>4.0</td>\n",
       "      <td>&lt;=50K</td>\n",
       "      <td>&lt;=50K</td>\n",
       "      <td>0.8</td>\n",
       "    </tr>\n",
       "    <tr>\n",
       "      <th>4</th>\n",
       "      <td>5.0</td>\n",
       "      <td>&lt;=50K</td>\n",
       "      <td>&lt;=50K</td>\n",
       "      <td>1.0</td>\n",
       "    </tr>\n",
       "  </tbody>\n",
       "</table>\n",
       "</div>"
      ],
      "text/plain": [
       "   Transaction ID Actual Class Predicted Class  Posterior Probability\n",
       "0             1.0        <=50K           <=50K                    0.8\n",
       "1             2.0        <=50K           <=50K                    1.0\n",
       "2             3.0         >50K           <=50K                    0.8\n",
       "3             4.0        <=50K           <=50K                    0.8\n",
       "4             5.0        <=50K           <=50K                    1.0"
      ]
     },
     "execution_count": 159,
     "metadata": {},
     "output_type": "execute_result"
    }
   ],
   "source": [
    "data = pd.read_csv('C:/Users/Income_K-NN.csv')\n",
    "data = data.iloc[:,1:]\n",
    "data.head()"
   ]
  },
  {
   "cell_type": "code",
   "execution_count": 165,
   "metadata": {
    "collapsed": false
   },
   "outputs": [
    {
     "data": {
      "text/html": [
       "<div>\n",
       "<table border=\"1\" class=\"dataframe\">\n",
       "  <thead>\n",
       "    <tr style=\"text-align: right;\">\n",
       "      <th></th>\n",
       "      <th>&gt;50K</th>\n",
       "      <th>&lt;=50K</th>\n",
       "    </tr>\n",
       "  </thead>\n",
       "  <tbody>\n",
       "    <tr>\n",
       "      <th>&gt;50K</th>\n",
       "      <td>23</td>\n",
       "      <td>41</td>\n",
       "    </tr>\n",
       "    <tr>\n",
       "      <th>&lt;=50K</th>\n",
       "      <td>17</td>\n",
       "      <td>187</td>\n",
       "    </tr>\n",
       "  </tbody>\n",
       "</table>\n",
       "</div>"
      ],
      "text/plain": [
       "       >50K  <=50K\n",
       ">50K     23     41\n",
       "<=50K    17    187"
      ]
     },
     "execution_count": 165,
     "metadata": {},
     "output_type": "execute_result"
    }
   ],
   "source": [
    "# Count TP, TN, FP & FN\n",
    "positive_data = data.loc[data['Actual Class'] == ' >50K']\n",
    "negative_data = data.loc[data['Actual Class'] == ' <=50K']\n",
    "TP = positive_data.loc[positive_data['Actual Class'] == positive_data['Predicted Class']].shape[0]\n",
    "TN = negative_data.loc[negative_data['Actual Class'] == negative_data['Predicted Class']].shape[0]\n",
    "FP = negative_data.loc[negative_data['Actual Class'] != negative_data['Predicted Class']].shape[0]\n",
    "FN = positive_data.loc[positive_data['Actual Class'] != positive_data['Predicted Class']].shape[0]\n",
    "\n",
    "l = [[TP, FN], [FP, TN]]\n",
    "np.reshape(np.array(l),(2,2))\n",
    "in_df = pd.DataFrame(l)\n",
    "in_df.index=['>50K','<=50K']\n",
    "in_df.columns = ['>50K','<=50K']\n",
    "in_df"
   ]
  },
  {
   "cell_type": "code",
   "execution_count": 162,
   "metadata": {
    "collapsed": false
   },
   "outputs": [
    {
     "data": {
      "text/plain": [
       "{'F_Measure': 0.4423076923076923, 'Prescision': 0.575, 'Recall': 0.359375}"
      ]
     },
     "execution_count": 162,
     "metadata": {},
     "output_type": "execute_result"
    }
   ],
   "source": [
    "# Calculate Precision, Measure & F-Measure\n",
    "precision = (float)(TP / (TP+FP))\n",
    "recall = (float)(TP / (TP+FN))\n",
    "f_measure = (float) (2 * recall * precision / (recall + precision))\n",
    "dict = {'Prescision':precision , 'Recall':recall, 'F_Measure':f_measure}\n",
    "dict"
   ]
  },
  {
   "cell_type": "code",
   "execution_count": 164,
   "metadata": {
    "collapsed": false
   },
   "outputs": [],
   "source": [
    "#Plot Roc Curve\n",
    "act = pd.DataFrame()\n",
    "act['act'] = data['Actual Class']\n",
    "act.act = act.act.astype('category')\n",
    "act.act = act.act.cat.codes\n",
    "pred = pd.DataFrame()\n",
    "pred['pred'] = data['Posterior Probability']"
   ]
  },
  {
   "cell_type": "code",
   "execution_count": 166,
   "metadata": {
    "collapsed": false
   },
   "outputs": [
    {
     "data": {
      "image/png": "[encoded data removed]",
      "text/plain": [
       "<matplotlib.figure.Figure at 0x22c8b933d30>"
      ]
     },
     "metadata": {},
     "output_type": "display_data"
    }
   ],
   "source": [
    "false_positive_rate, true_positive_rate, _ = roc_curve(act, pred)\n",
    "plt.plot(true_positive_rate, false_positive_rate, linestyle='dashed' , linewidth=2)\n",
    "plt.xlabel('False Positive')\n",
    "plt.ylabel('True Positive')\n",
    "plt.show()"
   ]
  }
 ],
 "metadata": {
  "anaconda-cloud": {},
  "kernelspec": {
   "display_name": "Python [default]",
   "language": "python",
   "name": "python3"
  },
  "language_info": {
   "codemirror_mode": {
    "name": "ipython",
    "version": 3
   },
   "file_extension": ".py",
   "mimetype": "text/x-python",
   "name": "python",
   "nbconvert_exporter": "python",
   "pygments_lexer": "ipython3",
   "version": "3.5.2"
  }
 },
 "nbformat": 4,
 "nbformat_minor": 1
}
